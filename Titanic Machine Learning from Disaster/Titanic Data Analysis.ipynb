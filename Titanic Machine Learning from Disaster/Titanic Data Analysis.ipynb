{
 "cells": [
  {
   "cell_type": "markdown",
   "metadata": {
    "collapsed": true,
    "pycharm": {
     "name": "#%% md\n"
    }
   },
   "source": [
    "# Titanic Data Analysis "
   ]
  },
  {
   "cell_type": "markdown",
   "metadata": {
    "pycharm": {
     "name": "#%% md\n"
    }
   },
   "source": [
    "**Import libraries**"
   ]
  },
  {
   "cell_type": "code",
   "execution_count": 1,
   "metadata": {
    "pycharm": {
     "is_executing": false,
     "name": "#%% \n"
    }
   },
   "outputs": [
    {
     "data": {
      "text/plain": [
       "'2.1.0'"
      ]
     },
     "execution_count": 1,
     "metadata": {},
     "output_type": "execute_result"
    }
   ],
   "source": [
    "import os\n",
    "import time\n",
    "\n",
    "import matplotlib.pyplot as plt\n",
    "import seaborn as sns\n",
    "import pandas as pd\n",
    "import numpy as np\n",
    "\n",
    "import tensorflow as tf\n",
    "import tensorflow.keras as keras\n",
    "\n",
    "tf.__version__"
   ]
  },
  {
   "cell_type": "markdown",
   "metadata": {
    "pycharm": {
     "name": "#%% md\n"
    }
   },
   "source": [
    "**load csv dataset**"
   ]
  },
  {
   "cell_type": "code",
   "execution_count": 2,
   "metadata": {
    "pycharm": {
     "is_executing": false,
     "name": "#%% \n"
    }
   },
   "outputs": [],
   "source": [
    "train = pd.read_csv('./data/train.csv')\n",
    "test = pd.read_csv('./data/test.csv')"
   ]
  },
  {
   "cell_type": "markdown",
   "metadata": {},
   "source": [
    "## Exploring Dataset"
   ]
  },
  {
   "cell_type": "markdown",
   "metadata": {
    "pycharm": {
     "name": "#%% md\n"
    }
   },
   "source": [
    "### Dataset Global Traits"
   ]
  },
  {
   "cell_type": "markdown",
   "metadata": {
    "pycharm": {
     "name": "#%% md\n"
    }
   },
   "source": [
    "**1. shape**\n",
    "  \n",
    "> Train Dataset has shape (891, 12)  \n",
    "\n",
    "> Test &nbsp;Dataset has shape (418, 11) "
   ]
  },
  {
   "cell_type": "code",
   "execution_count": 3,
   "metadata": {
    "pycharm": {
     "is_executing": false,
     "name": "#%%\n"
    }
   },
   "outputs": [
    {
     "name": "stdout",
     "output_type": "stream",
     "text": [
      "*** Shape of Train ***\n"
     ]
    },
    {
     "data": {
      "text/plain": [
       "(891, 12)"
      ]
     },
     "execution_count": 3,
     "metadata": {},
     "output_type": "execute_result"
    }
   ],
   "source": [
    "print('*** Shape of Train ***')\n",
    "train.shape"
   ]
  },
  {
   "cell_type": "code",
   "execution_count": 4,
   "metadata": {
    "pycharm": {
     "is_executing": false,
     "name": "#%%\n"
    }
   },
   "outputs": [
    {
     "name": "stdout",
     "output_type": "stream",
     "text": [
      "*** Shape of Test ***\n"
     ]
    },
    {
     "data": {
      "text/plain": [
       "(418, 11)"
      ]
     },
     "execution_count": 4,
     "metadata": {},
     "output_type": "execute_result"
    }
   ],
   "source": [
    "print('*** Shape of Test ***') \n",
    "test.shape"
   ]
  },
  {
   "cell_type": "markdown",
   "metadata": {
    "pycharm": {
     "name": "#%% md\n"
    }
   },
   "source": [
    "**2. Missing Values**\n",
    "  \n",
    "> Train Dataset has Missing Values in Column [Age, Cabin, Embarked]  \n",
    "\n",
    "> Test &nbsp;Dataset has Missing Values in Column [Age, Fare, Cabin] "
   ]
  },
  {
   "cell_type": "code",
   "execution_count": 5,
   "metadata": {
    "pycharm": {
     "is_executing": false,
     "name": "#%%\n"
    }
   },
   "outputs": [
    {
     "name": "stdout",
     "output_type": "stream",
     "text": [
      "*** Missing Values in Train ***\n"
     ]
    },
    {
     "data": {
      "text/plain": [
       "PassengerId      0\n",
       "Survived         0\n",
       "Pclass           0\n",
       "Name             0\n",
       "Sex              0\n",
       "Age            177\n",
       "SibSp            0\n",
       "Parch            0\n",
       "Ticket           0\n",
       "Fare             0\n",
       "Cabin          687\n",
       "Embarked         2\n",
       "dtype: int64"
      ]
     },
     "execution_count": 5,
     "metadata": {},
     "output_type": "execute_result"
    }
   ],
   "source": [
    "print('*** Missing Values in Train ***')\n",
    "train.isna().sum()"
   ]
  },
  {
   "cell_type": "code",
   "execution_count": 6,
   "metadata": {
    "pycharm": {
     "is_executing": false,
     "name": "#%%\n"
    }
   },
   "outputs": [
    {
     "name": "stdout",
     "output_type": "stream",
     "text": [
      "*** Missing Values in Test ***\n"
     ]
    },
    {
     "data": {
      "text/plain": [
       "PassengerId      0\n",
       "Pclass           0\n",
       "Name             0\n",
       "Sex              0\n",
       "Age             86\n",
       "SibSp            0\n",
       "Parch            0\n",
       "Ticket           0\n",
       "Fare             1\n",
       "Cabin          327\n",
       "Embarked         0\n",
       "dtype: int64"
      ]
     },
     "execution_count": 6,
     "metadata": {},
     "output_type": "execute_result"
    }
   ],
   "source": [
    "print('*** Missing Values in Test ***')\n",
    "test.isna().sum()\n"
   ]
  },
  {
   "cell_type": "markdown",
   "metadata": {
    "pycharm": {
     "name": "#%% md\n"
    }
   },
   "source": [
    "**3. Show Dataset Sample**\n",
    "  \n",
    "> Train Dataset Column >>  \n",
    "> [PassengerId, Survived, Pclass, Name, Sex, Age, SibSp, Parch, Ticker, Fare, Cabin, Embarked]  \n",
    "  \n",
    "> Test Dataset Column >>  \n",
    "> [PassengerId, Pclass, Name, Sex, Age, SibSp, Parch, Ticker, Fare, Cabin, Embarked]"
   ]
  },
  {
   "cell_type": "code",
   "execution_count": 7,
   "metadata": {
    "pycharm": {
     "is_executing": false,
     "name": "#%%\n"
    }
   },
   "outputs": [
    {
     "name": "stdout",
     "output_type": "stream",
     "text": [
      "Train Dataset\n"
     ]
    },
    {
     "data": {
      "text/html": [
       "<div>\n",
       "<style scoped>\n",
       "    .dataframe tbody tr th:only-of-type {\n",
       "        vertical-align: middle;\n",
       "    }\n",
       "\n",
       "    .dataframe tbody tr th {\n",
       "        vertical-align: top;\n",
       "    }\n",
       "\n",
       "    .dataframe thead th {\n",
       "        text-align: right;\n",
       "    }\n",
       "</style>\n",
       "<table border=\"1\" class=\"dataframe\">\n",
       "  <thead>\n",
       "    <tr style=\"text-align: right;\">\n",
       "      <th></th>\n",
       "      <th>PassengerId</th>\n",
       "      <th>Survived</th>\n",
       "      <th>Pclass</th>\n",
       "      <th>Name</th>\n",
       "      <th>Sex</th>\n",
       "      <th>Age</th>\n",
       "      <th>SibSp</th>\n",
       "      <th>Parch</th>\n",
       "      <th>Ticket</th>\n",
       "      <th>Fare</th>\n",
       "      <th>Cabin</th>\n",
       "      <th>Embarked</th>\n",
       "    </tr>\n",
       "  </thead>\n",
       "  <tbody>\n",
       "    <tr>\n",
       "      <th>0</th>\n",
       "      <td>1</td>\n",
       "      <td>0</td>\n",
       "      <td>3</td>\n",
       "      <td>Braund, Mr. Owen Harris</td>\n",
       "      <td>male</td>\n",
       "      <td>22.0</td>\n",
       "      <td>1</td>\n",
       "      <td>0</td>\n",
       "      <td>A/5 21171</td>\n",
       "      <td>7.2500</td>\n",
       "      <td>NaN</td>\n",
       "      <td>S</td>\n",
       "    </tr>\n",
       "    <tr>\n",
       "      <th>1</th>\n",
       "      <td>2</td>\n",
       "      <td>1</td>\n",
       "      <td>1</td>\n",
       "      <td>Cumings, Mrs. John Bradley (Florence Briggs Th...</td>\n",
       "      <td>female</td>\n",
       "      <td>38.0</td>\n",
       "      <td>1</td>\n",
       "      <td>0</td>\n",
       "      <td>PC 17599</td>\n",
       "      <td>71.2833</td>\n",
       "      <td>C85</td>\n",
       "      <td>C</td>\n",
       "    </tr>\n",
       "    <tr>\n",
       "      <th>2</th>\n",
       "      <td>3</td>\n",
       "      <td>1</td>\n",
       "      <td>3</td>\n",
       "      <td>Heikkinen, Miss. Laina</td>\n",
       "      <td>female</td>\n",
       "      <td>26.0</td>\n",
       "      <td>0</td>\n",
       "      <td>0</td>\n",
       "      <td>STON/O2. 3101282</td>\n",
       "      <td>7.9250</td>\n",
       "      <td>NaN</td>\n",
       "      <td>S</td>\n",
       "    </tr>\n",
       "    <tr>\n",
       "      <th>3</th>\n",
       "      <td>4</td>\n",
       "      <td>1</td>\n",
       "      <td>1</td>\n",
       "      <td>Futrelle, Mrs. Jacques Heath (Lily May Peel)</td>\n",
       "      <td>female</td>\n",
       "      <td>35.0</td>\n",
       "      <td>1</td>\n",
       "      <td>0</td>\n",
       "      <td>113803</td>\n",
       "      <td>53.1000</td>\n",
       "      <td>C123</td>\n",
       "      <td>S</td>\n",
       "    </tr>\n",
       "    <tr>\n",
       "      <th>4</th>\n",
       "      <td>5</td>\n",
       "      <td>0</td>\n",
       "      <td>3</td>\n",
       "      <td>Allen, Mr. William Henry</td>\n",
       "      <td>male</td>\n",
       "      <td>35.0</td>\n",
       "      <td>0</td>\n",
       "      <td>0</td>\n",
       "      <td>373450</td>\n",
       "      <td>8.0500</td>\n",
       "      <td>NaN</td>\n",
       "      <td>S</td>\n",
       "    </tr>\n",
       "  </tbody>\n",
       "</table>\n",
       "</div>"
      ],
      "text/plain": [
       "   PassengerId  Survived  Pclass  \\\n",
       "0            1         0       3   \n",
       "1            2         1       1   \n",
       "2            3         1       3   \n",
       "3            4         1       1   \n",
       "4            5         0       3   \n",
       "\n",
       "                                                Name     Sex   Age  SibSp  \\\n",
       "0                            Braund, Mr. Owen Harris    male  22.0      1   \n",
       "1  Cumings, Mrs. John Bradley (Florence Briggs Th...  female  38.0      1   \n",
       "2                             Heikkinen, Miss. Laina  female  26.0      0   \n",
       "3       Futrelle, Mrs. Jacques Heath (Lily May Peel)  female  35.0      1   \n",
       "4                           Allen, Mr. William Henry    male  35.0      0   \n",
       "\n",
       "   Parch            Ticket     Fare Cabin Embarked  \n",
       "0      0         A/5 21171   7.2500   NaN        S  \n",
       "1      0          PC 17599  71.2833   C85        C  \n",
       "2      0  STON/O2. 3101282   7.9250   NaN        S  \n",
       "3      0            113803  53.1000  C123        S  \n",
       "4      0            373450   8.0500   NaN        S  "
      ]
     },
     "execution_count": 7,
     "metadata": {},
     "output_type": "execute_result"
    }
   ],
   "source": [
    "print('Train Dataset')\n",
    "train.head()"
   ]
  },
  {
   "cell_type": "code",
   "execution_count": 8,
   "metadata": {
    "pycharm": {
     "is_executing": false,
     "name": "#%%\n"
    }
   },
   "outputs": [
    {
     "name": "stdout",
     "output_type": "stream",
     "text": [
      "Test Dataset\n"
     ]
    },
    {
     "data": {
      "text/html": [
       "<div>\n",
       "<style scoped>\n",
       "    .dataframe tbody tr th:only-of-type {\n",
       "        vertical-align: middle;\n",
       "    }\n",
       "\n",
       "    .dataframe tbody tr th {\n",
       "        vertical-align: top;\n",
       "    }\n",
       "\n",
       "    .dataframe thead th {\n",
       "        text-align: right;\n",
       "    }\n",
       "</style>\n",
       "<table border=\"1\" class=\"dataframe\">\n",
       "  <thead>\n",
       "    <tr style=\"text-align: right;\">\n",
       "      <th></th>\n",
       "      <th>PassengerId</th>\n",
       "      <th>Pclass</th>\n",
       "      <th>Name</th>\n",
       "      <th>Sex</th>\n",
       "      <th>Age</th>\n",
       "      <th>SibSp</th>\n",
       "      <th>Parch</th>\n",
       "      <th>Ticket</th>\n",
       "      <th>Fare</th>\n",
       "      <th>Cabin</th>\n",
       "      <th>Embarked</th>\n",
       "    </tr>\n",
       "  </thead>\n",
       "  <tbody>\n",
       "    <tr>\n",
       "      <th>0</th>\n",
       "      <td>892</td>\n",
       "      <td>3</td>\n",
       "      <td>Kelly, Mr. James</td>\n",
       "      <td>male</td>\n",
       "      <td>34.5</td>\n",
       "      <td>0</td>\n",
       "      <td>0</td>\n",
       "      <td>330911</td>\n",
       "      <td>7.8292</td>\n",
       "      <td>NaN</td>\n",
       "      <td>Q</td>\n",
       "    </tr>\n",
       "    <tr>\n",
       "      <th>1</th>\n",
       "      <td>893</td>\n",
       "      <td>3</td>\n",
       "      <td>Wilkes, Mrs. James (Ellen Needs)</td>\n",
       "      <td>female</td>\n",
       "      <td>47.0</td>\n",
       "      <td>1</td>\n",
       "      <td>0</td>\n",
       "      <td>363272</td>\n",
       "      <td>7.0000</td>\n",
       "      <td>NaN</td>\n",
       "      <td>S</td>\n",
       "    </tr>\n",
       "    <tr>\n",
       "      <th>2</th>\n",
       "      <td>894</td>\n",
       "      <td>2</td>\n",
       "      <td>Myles, Mr. Thomas Francis</td>\n",
       "      <td>male</td>\n",
       "      <td>62.0</td>\n",
       "      <td>0</td>\n",
       "      <td>0</td>\n",
       "      <td>240276</td>\n",
       "      <td>9.6875</td>\n",
       "      <td>NaN</td>\n",
       "      <td>Q</td>\n",
       "    </tr>\n",
       "    <tr>\n",
       "      <th>3</th>\n",
       "      <td>895</td>\n",
       "      <td>3</td>\n",
       "      <td>Wirz, Mr. Albert</td>\n",
       "      <td>male</td>\n",
       "      <td>27.0</td>\n",
       "      <td>0</td>\n",
       "      <td>0</td>\n",
       "      <td>315154</td>\n",
       "      <td>8.6625</td>\n",
       "      <td>NaN</td>\n",
       "      <td>S</td>\n",
       "    </tr>\n",
       "    <tr>\n",
       "      <th>4</th>\n",
       "      <td>896</td>\n",
       "      <td>3</td>\n",
       "      <td>Hirvonen, Mrs. Alexander (Helga E Lindqvist)</td>\n",
       "      <td>female</td>\n",
       "      <td>22.0</td>\n",
       "      <td>1</td>\n",
       "      <td>1</td>\n",
       "      <td>3101298</td>\n",
       "      <td>12.2875</td>\n",
       "      <td>NaN</td>\n",
       "      <td>S</td>\n",
       "    </tr>\n",
       "  </tbody>\n",
       "</table>\n",
       "</div>"
      ],
      "text/plain": [
       "   PassengerId  Pclass                                          Name     Sex  \\\n",
       "0          892       3                              Kelly, Mr. James    male   \n",
       "1          893       3              Wilkes, Mrs. James (Ellen Needs)  female   \n",
       "2          894       2                     Myles, Mr. Thomas Francis    male   \n",
       "3          895       3                              Wirz, Mr. Albert    male   \n",
       "4          896       3  Hirvonen, Mrs. Alexander (Helga E Lindqvist)  female   \n",
       "\n",
       "    Age  SibSp  Parch   Ticket     Fare Cabin Embarked  \n",
       "0  34.5      0      0   330911   7.8292   NaN        Q  \n",
       "1  47.0      1      0   363272   7.0000   NaN        S  \n",
       "2  62.0      0      0   240276   9.6875   NaN        Q  \n",
       "3  27.0      0      0   315154   8.6625   NaN        S  \n",
       "4  22.0      1      1  3101298  12.2875   NaN        S  "
      ]
     },
     "execution_count": 8,
     "metadata": {},
     "output_type": "execute_result"
    }
   ],
   "source": [
    "print('Test Dataset')\n",
    "test.head()"
   ]
  },
  {
   "cell_type": "markdown",
   "metadata": {
    "pycharm": {
     "name": "#%% md\n"
    }
   },
   "source": [
    "### Visualization"
   ]
  },
  {
   "cell_type": "markdown",
   "metadata": {
    "pycharm": {
     "name": "#%% md\n"
    }
   },
   "source": [
    "**1. Categorical Value by Bar Chart**"
   ]
  },
  {
   "cell_type": "code",
   "execution_count": 9,
   "metadata": {
    "pycharm": {
     "is_executing": false,
     "name": "#%% \n"
    }
   },
   "outputs": [],
   "source": [
    "def bar_chart(dataset, features):\n",
    "    survived = dataset[dataset['Survived'] == 1][features].value_counts()\n",
    "    dead = dataset[dataset['Survived'] == 0][features].value_counts()\n",
    "    df = pd.DataFrame([survived, dead], index=['Survived', 'Dead'])    \n",
    "    df.plot(kind='bar', stacked=True, title='Survived/Dead based on {}'.format(features))\n",
    "    plt.xticks(rotation=0)\n",
    "    plt.show()\n",
    "    return df"
   ]
  },
  {
   "cell_type": "markdown",
   "metadata": {
    "pycharm": {
     "name": "#%% md\n"
    }
   },
   "source": [
    "**1.1. Pclass**\n",
    "\n",
    "> Pclass 1 is more likely to be survived  \n",
    "> Pclass 3 is more likely to be dead"
   ]
  },
  {
   "cell_type": "code",
   "execution_count": 10,
   "metadata": {
    "pycharm": {
     "is_executing": false,
     "name": "#%%\n"
    }
   },
   "outputs": [
    {
     "data": {
      "image/png": "[encoded data removed]",
      "text/plain": [
       "<Figure size 432x288 with 1 Axes>"
      ]
     },
     "metadata": {
      "needs_background": "light"
     },
     "output_type": "display_data"
    },
    {
     "data": {
      "text/html": [
       "<div>\n",
       "<style scoped>\n",
       "    .dataframe tbody tr th:only-of-type {\n",
       "        vertical-align: middle;\n",
       "    }\n",
       "\n",
       "    .dataframe tbody tr th {\n",
       "        vertical-align: top;\n",
       "    }\n",
       "\n",
       "    .dataframe thead th {\n",
       "        text-align: right;\n",
       "    }\n",
       "</style>\n",
       "<table border=\"1\" class=\"dataframe\">\n",
       "  <thead>\n",
       "    <tr style=\"text-align: right;\">\n",
       "      <th></th>\n",
       "      <th>1</th>\n",
       "      <th>2</th>\n",
       "      <th>3</th>\n",
       "    </tr>\n",
       "  </thead>\n",
       "  <tbody>\n",
       "    <tr>\n",
       "      <th>Survived</th>\n",
       "      <td>136</td>\n",
       "      <td>87</td>\n",
       "      <td>119</td>\n",
       "    </tr>\n",
       "    <tr>\n",
       "      <th>Dead</th>\n",
       "      <td>80</td>\n",
       "      <td>97</td>\n",
       "      <td>372</td>\n",
       "    </tr>\n",
       "  </tbody>\n",
       "</table>\n",
       "</div>"
      ],
      "text/plain": [
       "            1   2    3\n",
       "Survived  136  87  119\n",
       "Dead       80  97  372"
      ]
     },
     "execution_count": 10,
     "metadata": {},
     "output_type": "execute_result"
    }
   ],
   "source": [
    "bar_chart(train, 'Pclass')"
   ]
  },
  {
   "cell_type": "markdown",
   "metadata": {},
   "source": [
    "**1.2. Sex**\n",
    "> Female is more likely to be survived  \n",
    "> Male &nbsp;&nbsp;&nbsp;&nbsp;is more likely to be dead"
   ]
  },
  {
   "cell_type": "code",
   "execution_count": 11,
   "metadata": {
    "pycharm": {
     "name": "#%%\n"
    }
   },
   "outputs": [
    {
     "data": {
      "image/png": "[encoded data removed]",
      "text/plain": [
       "<Figure size 432x288 with 1 Axes>"
      ]
     },
     "metadata": {
      "needs_background": "light"
     },
     "output_type": "display_data"
    },
    {
     "data": {
      "text/html": [
       "<div>\n",
       "<style scoped>\n",
       "    .dataframe tbody tr th:only-of-type {\n",
       "        vertical-align: middle;\n",
       "    }\n",
       "\n",
       "    .dataframe tbody tr th {\n",
       "        vertical-align: top;\n",
       "    }\n",
       "\n",
       "    .dataframe thead th {\n",
       "        text-align: right;\n",
       "    }\n",
       "</style>\n",
       "<table border=\"1\" class=\"dataframe\">\n",
       "  <thead>\n",
       "    <tr style=\"text-align: right;\">\n",
       "      <th></th>\n",
       "      <th>female</th>\n",
       "      <th>male</th>\n",
       "    </tr>\n",
       "  </thead>\n",
       "  <tbody>\n",
       "    <tr>\n",
       "      <th>Survived</th>\n",
       "      <td>233</td>\n",
       "      <td>109</td>\n",
       "    </tr>\n",
       "    <tr>\n",
       "      <th>Dead</th>\n",
       "      <td>81</td>\n",
       "      <td>468</td>\n",
       "    </tr>\n",
       "  </tbody>\n",
       "</table>\n",
       "</div>"
      ],
      "text/plain": [
       "          female  male\n",
       "Survived     233   109\n",
       "Dead          81   468"
      ]
     },
     "execution_count": 11,
     "metadata": {},
     "output_type": "execute_result"
    }
   ],
   "source": [
    "bar_chart(train, 'Sex')"
   ]
  },
  {
   "cell_type": "markdown",
   "metadata": {},
   "source": [
    "**1.3. Family Size (SibSp, Parch)**\n",
    "> Most of the Passenger has 0 or 1 Family Size(SibSp or Parch)"
   ]
  },
  {
   "cell_type": "code",
   "execution_count": 12,
   "metadata": {
    "pycharm": {
     "name": "#%%\n"
    }
   },
   "outputs": [
    {
     "data": {
      "image/png": "[encoded data removed]",
      "text/plain": [
       "<Figure size 432x288 with 1 Axes>"
      ]
     },
     "metadata": {
      "needs_background": "light"
     },
     "output_type": "display_data"
    },
    {
     "data": {
      "text/html": [
       "<div>\n",
       "<style scoped>\n",
       "    .dataframe tbody tr th:only-of-type {\n",
       "        vertical-align: middle;\n",
       "    }\n",
       "\n",
       "    .dataframe tbody tr th {\n",
       "        vertical-align: top;\n",
       "    }\n",
       "\n",
       "    .dataframe thead th {\n",
       "        text-align: right;\n",
       "    }\n",
       "</style>\n",
       "<table border=\"1\" class=\"dataframe\">\n",
       "  <thead>\n",
       "    <tr style=\"text-align: right;\">\n",
       "      <th></th>\n",
       "      <th>0</th>\n",
       "      <th>1</th>\n",
       "      <th>2</th>\n",
       "      <th>3</th>\n",
       "      <th>4</th>\n",
       "      <th>5</th>\n",
       "      <th>8</th>\n",
       "    </tr>\n",
       "  </thead>\n",
       "  <tbody>\n",
       "    <tr>\n",
       "      <th>Survived</th>\n",
       "      <td>210.0</td>\n",
       "      <td>112.0</td>\n",
       "      <td>13.0</td>\n",
       "      <td>4.0</td>\n",
       "      <td>3.0</td>\n",
       "      <td>NaN</td>\n",
       "      <td>NaN</td>\n",
       "    </tr>\n",
       "    <tr>\n",
       "      <th>Dead</th>\n",
       "      <td>398.0</td>\n",
       "      <td>97.0</td>\n",
       "      <td>15.0</td>\n",
       "      <td>12.0</td>\n",
       "      <td>15.0</td>\n",
       "      <td>5.0</td>\n",
       "      <td>7.0</td>\n",
       "    </tr>\n",
       "  </tbody>\n",
       "</table>\n",
       "</div>"
      ],
      "text/plain": [
       "              0      1     2     3     4    5    8\n",
       "Survived  210.0  112.0  13.0   4.0   3.0  NaN  NaN\n",
       "Dead      398.0   97.0  15.0  12.0  15.0  5.0  7.0"
      ]
     },
     "execution_count": 12,
     "metadata": {},
     "output_type": "execute_result"
    }
   ],
   "source": [
    "bar_chart(train, 'SibSp')"
   ]
  },
  {
   "cell_type": "code",
   "execution_count": 13,
   "metadata": {
    "pycharm": {
     "name": "#%%\n"
    }
   },
   "outputs": [
    {
     "data": {
      "image/png": "[encoded data removed]",
      "text/plain": [
       "<Figure size 432x288 with 1 Axes>"
      ]
     },
     "metadata": {
      "needs_background": "light"
     },
     "output_type": "display_data"
    },
    {
     "data": {
      "text/html": [
       "<div>\n",
       "<style scoped>\n",
       "    .dataframe tbody tr th:only-of-type {\n",
       "        vertical-align: middle;\n",
       "    }\n",
       "\n",
       "    .dataframe tbody tr th {\n",
       "        vertical-align: top;\n",
       "    }\n",
       "\n",
       "    .dataframe thead th {\n",
       "        text-align: right;\n",
       "    }\n",
       "</style>\n",
       "<table border=\"1\" class=\"dataframe\">\n",
       "  <thead>\n",
       "    <tr style=\"text-align: right;\">\n",
       "      <th></th>\n",
       "      <th>0</th>\n",
       "      <th>1</th>\n",
       "      <th>2</th>\n",
       "      <th>3</th>\n",
       "      <th>4</th>\n",
       "      <th>5</th>\n",
       "      <th>6</th>\n",
       "    </tr>\n",
       "  </thead>\n",
       "  <tbody>\n",
       "    <tr>\n",
       "      <th>Survived</th>\n",
       "      <td>233.0</td>\n",
       "      <td>65.0</td>\n",
       "      <td>40.0</td>\n",
       "      <td>3.0</td>\n",
       "      <td>NaN</td>\n",
       "      <td>1.0</td>\n",
       "      <td>NaN</td>\n",
       "    </tr>\n",
       "    <tr>\n",
       "      <th>Dead</th>\n",
       "      <td>445.0</td>\n",
       "      <td>53.0</td>\n",
       "      <td>40.0</td>\n",
       "      <td>2.0</td>\n",
       "      <td>4.0</td>\n",
       "      <td>4.0</td>\n",
       "      <td>1.0</td>\n",
       "    </tr>\n",
       "  </tbody>\n",
       "</table>\n",
       "</div>"
      ],
      "text/plain": [
       "              0     1     2    3    4    5    6\n",
       "Survived  233.0  65.0  40.0  3.0  NaN  1.0  NaN\n",
       "Dead      445.0  53.0  40.0  2.0  4.0  4.0  1.0"
      ]
     },
     "execution_count": 13,
     "metadata": {},
     "output_type": "execute_result"
    }
   ],
   "source": [
    "bar_chart(train, 'Parch')"
   ]
  },
  {
   "cell_type": "markdown",
   "metadata": {},
   "source": [
    "**1.4. Embarked**\n",
    "> Most of the Passenger are from Embarked S"
   ]
  },
  {
   "cell_type": "code",
   "execution_count": 14,
   "metadata": {
    "pycharm": {
     "name": "#%%\n"
    }
   },
   "outputs": [
    {
     "data": {
      "image/png": "[encoded data removed]",
      "text/plain": [
       "<Figure size 432x288 with 1 Axes>"
      ]
     },
     "metadata": {
      "needs_background": "light"
     },
     "output_type": "display_data"
    },
    {
     "data": {
      "text/html": [
       "<div>\n",
       "<style scoped>\n",
       "    .dataframe tbody tr th:only-of-type {\n",
       "        vertical-align: middle;\n",
       "    }\n",
       "\n",
       "    .dataframe tbody tr th {\n",
       "        vertical-align: top;\n",
       "    }\n",
       "\n",
       "    .dataframe thead th {\n",
       "        text-align: right;\n",
       "    }\n",
       "</style>\n",
       "<table border=\"1\" class=\"dataframe\">\n",
       "  <thead>\n",
       "    <tr style=\"text-align: right;\">\n",
       "      <th></th>\n",
       "      <th>S</th>\n",
       "      <th>C</th>\n",
       "      <th>Q</th>\n",
       "    </tr>\n",
       "  </thead>\n",
       "  <tbody>\n",
       "    <tr>\n",
       "      <th>Survived</th>\n",
       "      <td>217</td>\n",
       "      <td>93</td>\n",
       "      <td>30</td>\n",
       "    </tr>\n",
       "    <tr>\n",
       "      <th>Dead</th>\n",
       "      <td>427</td>\n",
       "      <td>75</td>\n",
       "      <td>47</td>\n",
       "    </tr>\n",
       "  </tbody>\n",
       "</table>\n",
       "</div>"
      ],
      "text/plain": [
       "            S   C   Q\n",
       "Survived  217  93  30\n",
       "Dead      427  75  47"
      ]
     },
     "execution_count": 14,
     "metadata": {},
     "output_type": "execute_result"
    }
   ],
   "source": [
    "bar_chart(train, 'Embarked')"
   ]
  },
  {
   "cell_type": "markdown",
   "metadata": {},
   "source": [
    "**2. Density Value by KDE Chart**"
   ]
  },
  {
   "cell_type": "code",
   "execution_count": 15,
   "metadata": {},
   "outputs": [],
   "source": [
    "def kde_plot(dataset, features, bw=0.15):\n",
    "    \n",
    "    survived = dataset[dataset['Survived'] == 1][features].value_counts()\n",
    "    dead = dataset[dataset['Survived'] == 0][features].value_counts()\n",
    "    \n",
    "    df = pd.DataFrame([survived, dead], index=['Survived', 'Dead'])\n",
    "    \n",
    "    facet = sns.FacetGrid(dataset, hue='Survived', aspect=4)\n",
    "    facet.map(sns.kdeplot, features, shade=True, bw=bw)\n",
    "    facet.set(xlim=(0, dataset[features].max()))\n",
    "    plt.plot()\n",
    "    \n",
    "    return df\n"
   ]
  },
  {
   "cell_type": "markdown",
   "metadata": {},
   "source": [
    "**2.1.Family Size(SibSp, Parch)**\n",
    "> **SibSp Bins**  \n",
    "> * 0&nbsp;&nbsp;&nbsp;: No  \n",
    "> * 1&nbsp;&nbsp;&nbsp;: Only  \n",
    "> * 2-4: Little  \n",
    "> * 5-8: Many\n",
    "\n",
    "> **Parch Bins**  \n",
    "> * 0&nbsp;&nbsp;&nbsp;: No  \n",
    "> * 1-3: Little  \n",
    "> * 4-6: Many "
   ]
  },
  {
   "cell_type": "code",
   "execution_count": 16,
   "metadata": {},
   "outputs": [
    {
     "data": {
      "text/html": [
       "<div>\n",
       "<style scoped>\n",
       "    .dataframe tbody tr th:only-of-type {\n",
       "        vertical-align: middle;\n",
       "    }\n",
       "\n",
       "    .dataframe tbody tr th {\n",
       "        vertical-align: top;\n",
       "    }\n",
       "\n",
       "    .dataframe thead th {\n",
       "        text-align: right;\n",
       "    }\n",
       "</style>\n",
       "<table border=\"1\" class=\"dataframe\">\n",
       "  <thead>\n",
       "    <tr style=\"text-align: right;\">\n",
       "      <th></th>\n",
       "      <th>0</th>\n",
       "      <th>1</th>\n",
       "      <th>2</th>\n",
       "      <th>3</th>\n",
       "      <th>4</th>\n",
       "      <th>5</th>\n",
       "      <th>8</th>\n",
       "    </tr>\n",
       "  </thead>\n",
       "  <tbody>\n",
       "    <tr>\n",
       "      <th>Survived</th>\n",
       "      <td>210.0</td>\n",
       "      <td>112.0</td>\n",
       "      <td>13.0</td>\n",
       "      <td>4.0</td>\n",
       "      <td>3.0</td>\n",
       "      <td>NaN</td>\n",
       "      <td>NaN</td>\n",
       "    </tr>\n",
       "    <tr>\n",
       "      <th>Dead</th>\n",
       "      <td>398.0</td>\n",
       "      <td>97.0</td>\n",
       "      <td>15.0</td>\n",
       "      <td>12.0</td>\n",
       "      <td>15.0</td>\n",
       "      <td>5.0</td>\n",
       "      <td>7.0</td>\n",
       "    </tr>\n",
       "  </tbody>\n",
       "</table>\n",
       "</div>"
      ],
      "text/plain": [
       "              0      1     2     3     4    5    8\n",
       "Survived  210.0  112.0  13.0   4.0   3.0  NaN  NaN\n",
       "Dead      398.0   97.0  15.0  12.0  15.0  5.0  7.0"
      ]
     },
     "execution_count": 16,
     "metadata": {},
     "output_type": "execute_result"
    },
    {
     "data": {
      "image/png": "[encoded data removed]",
      "text/plain": [
       "<Figure size 864x216 with 1 Axes>"
      ]
     },
     "metadata": {
      "needs_background": "light"
     },
     "output_type": "display_data"
    }
   ],
   "source": [
    "kde_plot(train, 'SibSp')"
   ]
  },
  {
   "cell_type": "code",
   "execution_count": 17,
   "metadata": {},
   "outputs": [
    {
     "data": {
      "text/html": [
       "<div>\n",
       "<style scoped>\n",
       "    .dataframe tbody tr th:only-of-type {\n",
       "        vertical-align: middle;\n",
       "    }\n",
       "\n",
       "    .dataframe tbody tr th {\n",
       "        vertical-align: top;\n",
       "    }\n",
       "\n",
       "    .dataframe thead th {\n",
       "        text-align: right;\n",
       "    }\n",
       "</style>\n",
       "<table border=\"1\" class=\"dataframe\">\n",
       "  <thead>\n",
       "    <tr style=\"text-align: right;\">\n",
       "      <th></th>\n",
       "      <th>0</th>\n",
       "      <th>1</th>\n",
       "      <th>2</th>\n",
       "      <th>3</th>\n",
       "      <th>4</th>\n",
       "      <th>5</th>\n",
       "      <th>6</th>\n",
       "    </tr>\n",
       "  </thead>\n",
       "  <tbody>\n",
       "    <tr>\n",
       "      <th>Survived</th>\n",
       "      <td>233.0</td>\n",
       "      <td>65.0</td>\n",
       "      <td>40.0</td>\n",
       "      <td>3.0</td>\n",
       "      <td>NaN</td>\n",
       "      <td>1.0</td>\n",
       "      <td>NaN</td>\n",
       "    </tr>\n",
       "    <tr>\n",
       "      <th>Dead</th>\n",
       "      <td>445.0</td>\n",
       "      <td>53.0</td>\n",
       "      <td>40.0</td>\n",
       "      <td>2.0</td>\n",
       "      <td>4.0</td>\n",
       "      <td>4.0</td>\n",
       "      <td>1.0</td>\n",
       "    </tr>\n",
       "  </tbody>\n",
       "</table>\n",
       "</div>"
      ],
      "text/plain": [
       "              0     1     2    3    4    5    6\n",
       "Survived  233.0  65.0  40.0  3.0  NaN  1.0  NaN\n",
       "Dead      445.0  53.0  40.0  2.0  4.0  4.0  1.0"
      ]
     },
     "execution_count": 17,
     "metadata": {},
     "output_type": "execute_result"
    },
    {
     "data": {
      "image/png": "[encoded data removed]",
      "text/plain": [
       "<Figure size 864x216 with 1 Axes>"
      ]
     },
     "metadata": {
      "needs_background": "light"
     },
     "output_type": "display_data"
    }
   ],
   "source": [
    "kde_plot(train, 'Parch')"
   ]
  },
  {
   "cell_type": "markdown",
   "metadata": {},
   "source": [
    "**2.2.Age**\n",
    "> **Age Bins**  \n",
    "> * 01&nbsp;-9&nbsp;: Under-Teens  \n",
    "> * 10-18: Teens  \n",
    "> * 19-29: Twenties  \n",
    "> * 30-38: Thirties  \n",
    "> * 39-49: Fourties  \n",
    "> * 50-59: Fifties    \n",
    "> * 60-&nbsp;&nbsp;: Over-Fifties    "
   ]
  },
  {
   "cell_type": "code",
   "execution_count": 18,
   "metadata": {},
   "outputs": [
    {
     "data": {
      "text/html": [
       "<div>\n",
       "<style scoped>\n",
       "    .dataframe tbody tr th:only-of-type {\n",
       "        vertical-align: middle;\n",
       "    }\n",
       "\n",
       "    .dataframe tbody tr th {\n",
       "        vertical-align: top;\n",
       "    }\n",
       "\n",
       "    .dataframe thead th {\n",
       "        text-align: right;\n",
       "    }\n",
       "</style>\n",
       "<table border=\"1\" class=\"dataframe\">\n",
       "  <thead>\n",
       "    <tr style=\"text-align: right;\">\n",
       "      <th></th>\n",
       "      <th>0.42</th>\n",
       "      <th>0.67</th>\n",
       "      <th>0.75</th>\n",
       "      <th>0.83</th>\n",
       "      <th>0.92</th>\n",
       "      <th>1.00</th>\n",
       "      <th>2.00</th>\n",
       "      <th>3.00</th>\n",
       "      <th>4.00</th>\n",
       "      <th>5.00</th>\n",
       "      <th>...</th>\n",
       "      <th>62.00</th>\n",
       "      <th>63.00</th>\n",
       "      <th>64.00</th>\n",
       "      <th>65.00</th>\n",
       "      <th>66.00</th>\n",
       "      <th>70.00</th>\n",
       "      <th>70.50</th>\n",
       "      <th>71.00</th>\n",
       "      <th>74.00</th>\n",
       "      <th>80.00</th>\n",
       "    </tr>\n",
       "  </thead>\n",
       "  <tbody>\n",
       "    <tr>\n",
       "      <th>Survived</th>\n",
       "      <td>1.0</td>\n",
       "      <td>1.0</td>\n",
       "      <td>2.0</td>\n",
       "      <td>2.0</td>\n",
       "      <td>1.0</td>\n",
       "      <td>5.0</td>\n",
       "      <td>3.0</td>\n",
       "      <td>5.0</td>\n",
       "      <td>7.0</td>\n",
       "      <td>4.0</td>\n",
       "      <td>...</td>\n",
       "      <td>2.0</td>\n",
       "      <td>2.0</td>\n",
       "      <td>NaN</td>\n",
       "      <td>NaN</td>\n",
       "      <td>NaN</td>\n",
       "      <td>NaN</td>\n",
       "      <td>NaN</td>\n",
       "      <td>NaN</td>\n",
       "      <td>NaN</td>\n",
       "      <td>1.0</td>\n",
       "    </tr>\n",
       "    <tr>\n",
       "      <th>Dead</th>\n",
       "      <td>NaN</td>\n",
       "      <td>NaN</td>\n",
       "      <td>NaN</td>\n",
       "      <td>NaN</td>\n",
       "      <td>NaN</td>\n",
       "      <td>2.0</td>\n",
       "      <td>7.0</td>\n",
       "      <td>1.0</td>\n",
       "      <td>3.0</td>\n",
       "      <td>NaN</td>\n",
       "      <td>...</td>\n",
       "      <td>2.0</td>\n",
       "      <td>NaN</td>\n",
       "      <td>2.0</td>\n",
       "      <td>3.0</td>\n",
       "      <td>1.0</td>\n",
       "      <td>2.0</td>\n",
       "      <td>1.0</td>\n",
       "      <td>2.0</td>\n",
       "      <td>1.0</td>\n",
       "      <td>NaN</td>\n",
       "    </tr>\n",
       "  </tbody>\n",
       "</table>\n",
       "<p>2 rows × 88 columns</p>\n",
       "</div>"
      ],
      "text/plain": [
       "          0.42   0.67   0.75   0.83   0.92   1.00   2.00   3.00   4.00   \\\n",
       "Survived    1.0    1.0    2.0    2.0    1.0    5.0    3.0    5.0    7.0   \n",
       "Dead        NaN    NaN    NaN    NaN    NaN    2.0    7.0    1.0    3.0   \n",
       "\n",
       "          5.00   ...  62.00  63.00  64.00  65.00  66.00  70.00  70.50  71.00  \\\n",
       "Survived    4.0  ...    2.0    2.0    NaN    NaN    NaN    NaN    NaN    NaN   \n",
       "Dead        NaN  ...    2.0    NaN    2.0    3.0    1.0    2.0    1.0    2.0   \n",
       "\n",
       "          74.00  80.00  \n",
       "Survived    NaN    1.0  \n",
       "Dead        1.0    NaN  \n",
       "\n",
       "[2 rows x 88 columns]"
      ]
     },
     "execution_count": 18,
     "metadata": {},
     "output_type": "execute_result"
    },
    {
     "data": {
      "image/png": "[encoded data removed]",
      "text/plain": [
       "<Figure size 864x216 with 1 Axes>"
      ]
     },
     "metadata": {
      "needs_background": "light"
     },
     "output_type": "display_data"
    }
   ],
   "source": [
    "kde_plot(train, 'Age')"
   ]
  },
  {
   "cell_type": "markdown",
   "metadata": {},
   "source": [
    "## Preprocessing (Feature Engineering)"
   ]
  },
  {
   "cell_type": "markdown",
   "metadata": {},
   "source": [
    "### Add Column"
   ]
  },
  {
   "cell_type": "markdown",
   "metadata": {},
   "source": [
    "**1. Name -> Title**"
   ]
  },
  {
   "cell_type": "code",
   "execution_count": 19,
   "metadata": {},
   "outputs": [],
   "source": [
    "def add_title(dataset):\n",
    "    dataset['Title'] = dataset['Name'].str.extract(r'([a-zA-Z]+)\\. ', expand=True)\n",
    "    return dataset"
   ]
  },
  {
   "cell_type": "code",
   "execution_count": 20,
   "metadata": {},
   "outputs": [],
   "source": [
    "train = add_title(train)\n",
    "test = add_title(test)"
   ]
  },
  {
   "cell_type": "markdown",
   "metadata": {},
   "source": [
    "**2. Cabin -> CabinChr**"
   ]
  },
  {
   "cell_type": "code",
   "execution_count": 21,
   "metadata": {},
   "outputs": [],
   "source": [
    "def add_cabin_chr(dataset):\n",
    "    dataset['CabinChr'] = dataset['Cabin'].str.extract(r'([A-Z])', expand=True)\n",
    "    return dataset"
   ]
  },
  {
   "cell_type": "code",
   "execution_count": 22,
   "metadata": {},
   "outputs": [],
   "source": [
    "train = add_cabin_chr(train)\n",
    "test = add_cabin_chr(test)"
   ]
  },
  {
   "cell_type": "markdown",
   "metadata": {},
   "source": [
    "### Filling Missing Values"
   ]
  },
  {
   "cell_type": "markdown",
   "metadata": {},
   "source": [
    "**1. Age by Median Value of Title** "
   ]
  },
  {
   "cell_type": "code",
   "execution_count": 23,
   "metadata": {},
   "outputs": [],
   "source": [
    "def get_age_dict(dataset):\n",
    "    age_dict = dict()    \n",
    "    age_default = dataset['Age'].median()\n",
    "    \n",
    "    for title in sorted(dataset['Title'].dropna().unique()):\n",
    "        age = dataset[dataset['Title'] == title]['Age'].median()\n",
    "        if pd.isna(age):\n",
    "            age = age_default\n",
    "        age_dict[title] = age\n",
    "\n",
    "    return age_dict"
   ]
  },
  {
   "cell_type": "code",
   "execution_count": 24,
   "metadata": {},
   "outputs": [],
   "source": [
    "def fill_age(dataset, age_dict):\n",
    "    for title, age in age_dict.items():\n",
    "        dataset.loc[dataset['Title'] == title, 'Age'] = dataset.loc[dataset['Title'] == title, 'Age'].fillna(age)\n",
    "    \n",
    "    dataset['Age'] = dataset['Age'].astype('int64', copy=False)\n",
    "    return dataset"
   ]
  },
  {
   "cell_type": "code",
   "execution_count": 25,
   "metadata": {},
   "outputs": [],
   "source": [
    "combined_dataset = pd.concat([train[['Title', 'Age']], test[['Title', 'Age']]], ignore_index=True)\n",
    "age_dict = get_age_dict(combined_dataset)\n",
    "train = fill_age(train, age_dict)\n",
    "test = fill_age(test, age_dict)"
   ]
  },
  {
   "cell_type": "markdown",
   "metadata": {},
   "source": [
    "**2. Fare by Average Value of Pclass** "
   ]
  },
  {
   "cell_type": "code",
   "execution_count": 26,
   "metadata": {},
   "outputs": [],
   "source": [
    "def get_fare_dict(dataset):\n",
    "    fare_dict = dict()\n",
    "    \n",
    "    for pclass in sorted(dataset['Pclass'].dropna().unique()):\n",
    "        fare = dataset[dataset['Pclass'] == pclass]['Fare'].mean()\n",
    "        fare_dict[pclass] = fare\n",
    "        \n",
    "    return fare_dict"
   ]
  },
  {
   "cell_type": "code",
   "execution_count": 27,
   "metadata": {},
   "outputs": [],
   "source": [
    "def fill_fare(dataset, fare_dict):\n",
    "    for pclass, fare in fare_dict.items():\n",
    "        dataset.loc[dataset['Pclass'] == pclass, 'Fare'] = dataset.loc[dataset['Pclass'] == pclass, 'Fare'].fillna(fare)\n",
    "        \n",
    "    return dataset    "
   ]
  },
  {
   "cell_type": "code",
   "execution_count": 28,
   "metadata": {},
   "outputs": [],
   "source": [
    "combined_dataset = pd.concat([train[['Pclass', 'Fare']], test[['Pclass', 'Fare']]], ignore_index=True)\n",
    "fare_dict = get_fare_dict(combined_dataset)\n",
    "train = fill_fare(train, fare_dict)\n",
    "test = fill_fare(test, fare_dict)"
   ]
  },
  {
   "cell_type": "markdown",
   "metadata": {},
   "source": [
    "**3. CabinChr by Most Frequent Value of Pclass** "
   ]
  },
  {
   "cell_type": "code",
   "execution_count": 29,
   "metadata": {},
   "outputs": [],
   "source": [
    "def get_cabin_chr_dict(dataset):\n",
    "    cabin_chr_dict = dict()\n",
    "    \n",
    "    for pclass in sorted(dataset['Pclass'].dropna().unique()):\n",
    "        cabin_chr = dataset[dataset['Pclass'] == pclass]['CabinChr'].value_counts().index[0]\n",
    "        cabin_chr_dict[pclass] = cabin_chr\n",
    "        \n",
    "    return cabin_chr_dict"
   ]
  },
  {
   "cell_type": "code",
   "execution_count": 30,
   "metadata": {},
   "outputs": [],
   "source": [
    "def fill_cabin_chr(dataset, cabin_chr_dict):\n",
    "    for pclass, cabin_chr in cabin_chr_dict.items():\n",
    "        dataset.loc[dataset['Pclass'] == pclass, 'CabinChr'] = dataset.loc[dataset['Pclass'] == pclass, 'CabinChr'].fillna(cabin_chr)\n",
    "        \n",
    "    return dataset    "
   ]
  },
  {
   "cell_type": "code",
   "execution_count": 31,
   "metadata": {},
   "outputs": [],
   "source": [
    "combined_dataset = pd.concat([train[['Pclass', 'CabinChr']], test[['Pclass', 'CabinChr']]], ignore_index=True)\n",
    "cabin_chr_dict = get_cabin_chr_dict(combined_dataset)\n",
    "train = fill_cabin_chr(train, cabin_chr_dict)\n",
    "test = fill_cabin_chr(test, cabin_chr_dict)"
   ]
  },
  {
   "cell_type": "markdown",
   "metadata": {},
   "source": [
    "**4. Embarked by Most Frequent Value of Embarked** "
   ]
  },
  {
   "cell_type": "code",
   "execution_count": 32,
   "metadata": {},
   "outputs": [],
   "source": [
    "def get_embarked_value(dataset):\n",
    "    return dataset['Embarked'].value_counts().index[0]"
   ]
  },
  {
   "cell_type": "code",
   "execution_count": 33,
   "metadata": {},
   "outputs": [],
   "source": [
    "def fill_embarked(dataset, embarked_value):\n",
    "    dataset['Embarked'] = dataset['Embarked'].fillna(embarked_value)\n",
    "    \n",
    "    return dataset"
   ]
  },
  {
   "cell_type": "code",
   "execution_count": 34,
   "metadata": {},
   "outputs": [],
   "source": [
    "combined_dataset = pd.concat([train[['Embarked']], test[['Embarked']]], ignore_index=True)\n",
    "embarked_value = get_embarked_value(combined_dataset)\n",
    "train = fill_embarked(train, embarked_value)\n",
    "test = fill_embarked(test, embarked_value)"
   ]
  },
  {
   "cell_type": "markdown",
   "metadata": {},
   "source": [
    "### Binning"
   ]
  },
  {
   "cell_type": "markdown",
   "metadata": {},
   "source": [
    "**1. SibSp** "
   ]
  },
  {
   "cell_type": "code",
   "execution_count": 35,
   "metadata": {},
   "outputs": [],
   "source": [
    "def bin_sibsp(dataset):\n",
    "    sibsp_dict = dict()\n",
    "    for num in sorted(dataset['SibSp'].unique()):\n",
    "        if num == 0:\n",
    "            sibsp_dict[num] = 'No'\n",
    "        elif num == 1:\n",
    "            sibsp_dict[num] = 'One'\n",
    "        elif 2 <= num <= 4:\n",
    "            sibsp_dict[num] = 'Little'\n",
    "        else:\n",
    "            sibsp_dict[num] = 'Many'\n",
    "            \n",
    "    dataset['SibSp'] = dataset['SibSp'].replace(sibsp_dict)\n",
    "    return dataset"
   ]
  },
  {
   "cell_type": "code",
   "execution_count": 36,
   "metadata": {},
   "outputs": [],
   "source": [
    "train = bin_sibsp(train)\n",
    "test = bin_sibsp(test)\n"
   ]
  },
  {
   "cell_type": "markdown",
   "metadata": {},
   "source": [
    "**2. Parch** "
   ]
  },
  {
   "cell_type": "code",
   "execution_count": 37,
   "metadata": {},
   "outputs": [],
   "source": [
    "def bin_parch(dataset):\n",
    "    parch_dict = dict()\n",
    "    for num in sorted(dataset['Parch'].unique()):\n",
    "        if num == 0:\n",
    "            parch_dict[num] = 'No'\n",
    "        elif 1 <= num <= 3:\n",
    "            parch_dict[num] = 'Little'\n",
    "        else:\n",
    "            parch_dict[num] = 'Many'\n",
    "            \n",
    "    dataset['Parch'] = dataset['Parch'].replace(parch_dict)\n",
    "    return dataset"
   ]
  },
  {
   "cell_type": "code",
   "execution_count": 38,
   "metadata": {},
   "outputs": [],
   "source": [
    "train = bin_parch(train)\n",
    "test = bin_parch(test)\n"
   ]
  },
  {
   "cell_type": "markdown",
   "metadata": {},
   "source": [
    "**3. Age** "
   ]
  },
  {
   "cell_type": "code",
   "execution_count": 39,
   "metadata": {},
   "outputs": [],
   "source": [
    "def bin_age(dataset):\n",
    "    age_dict = dict()\n",
    "    for age in sorted(dataset['Age'].unique()):\n",
    "        if age <= 9:\n",
    "            age_dict[age] = 'Under-Teens'\n",
    "        elif 10 <= age <= 18:\n",
    "            age_dict[age] = 'Teens'\n",
    "        elif 19 <= age <= 29:\n",
    "            age_dict[age] = 'Twenties'\n",
    "        elif 30 <= age <= 38:\n",
    "            age_dict[age] = 'Thirties'\n",
    "        elif 39 <= age <= 49:\n",
    "            age_dict[age] = 'Fourties'\n",
    "        elif 50 <= age <= 59:\n",
    "            age_dict[age] = 'Fifties'\n",
    "        else:\n",
    "            age_dict[age] = 'Over-Fifties'\n",
    "            \n",
    "    dataset['Age'] = dataset['Age'].replace(age_dict)\n",
    "    return dataset"
   ]
  },
  {
   "cell_type": "code",
   "execution_count": 40,
   "metadata": {},
   "outputs": [],
   "source": [
    "train = bin_age(train)\n",
    "test = bin_age(test)"
   ]
  },
  {
   "cell_type": "markdown",
   "metadata": {},
   "source": [
    "**4. Title** "
   ]
  },
  {
   "cell_type": "code",
   "execution_count": 41,
   "metadata": {},
   "outputs": [],
   "source": [
    "def bin_title(dataset):\n",
    "    title_dict = dict()\n",
    "    for title in sorted(dataset['Title'].unique()):\n",
    "        if title in ['Mr', 'Miss', 'Mrs']:\n",
    "            title_dict[title] = title\n",
    "        else:\n",
    "            title_dict[title] = 'Other'\n",
    "            \n",
    "    dataset['Title'] = dataset['Title'].replace(title_dict)\n",
    "    return dataset"
   ]
  },
  {
   "cell_type": "code",
   "execution_count": 42,
   "metadata": {},
   "outputs": [],
   "source": [
    "train = bin_title(train)\n",
    "test = bin_title(test)"
   ]
  },
  {
   "cell_type": "markdown",
   "metadata": {},
   "source": [
    "### Normalization"
   ]
  },
  {
   "cell_type": "markdown",
   "metadata": {},
   "source": [
    "**1. Fare** \n",
    "> Min Max Normalization (0 ~ 1)"
   ]
  },
  {
   "cell_type": "code",
   "execution_count": 43,
   "metadata": {},
   "outputs": [],
   "source": [
    "def normalize_fare(dataset, min_fare, max_fare):\n",
    "    dataset['Fare'] = (dataset['Fare'] - min_fare) / (max_fare - min_fare)\n",
    "    return dataset"
   ]
  },
  {
   "cell_type": "code",
   "execution_count": 44,
   "metadata": {},
   "outputs": [],
   "source": [
    "combined_dataset = pd.concat([train[['Fare']], test[['Fare']]], ignore_index=True)\n",
    "\n",
    "min_fare = combined_dataset['Fare'].min()\n",
    "max_fare = combined_dataset['Fare'].max()\n",
    "\n",
    "train = normalize_fare(train, min_fare, max_fare)\n",
    "test = normalize_fare(test, min_fare, max_fare)"
   ]
  },
  {
   "cell_type": "markdown",
   "metadata": {},
   "source": [
    "### One Hot Encoding"
   ]
  },
  {
   "cell_type": "code",
   "execution_count": 45,
   "metadata": {},
   "outputs": [],
   "source": [
    "def one_hot_encoding(dataset, columns, prefix):\n",
    "    dataset = pd.get_dummies(dataset, columns=columns, prefix=prefix)\n",
    "    return dataset"
   ]
  },
  {
   "cell_type": "code",
   "execution_count": 46,
   "metadata": {},
   "outputs": [],
   "source": [
    "train = one_hot_encoding(train, \n",
    "                         ['Pclass', 'Sex', 'Age', 'SibSp', 'Parch', 'Embarked', 'Title', 'CabinChr'], \n",
    "                         ['Pclass', 'Sex', 'Age', 'SibSp', 'Parch', 'Embarked', 'Title', 'Cabin'])\n",
    "test = one_hot_encoding(test, \n",
    "                        ['Pclass', 'Sex', 'Age', 'SibSp', 'Parch', 'Embarked', 'Title', 'CabinChr'], \n",
    "                        ['Pclass', 'Sex', 'Age', 'SibSp', 'Parch', 'Embarked', 'Title', 'Cabin'])"
   ]
  },
  {
   "cell_type": "markdown",
   "metadata": {},
   "source": [
    "### Drop Column"
   ]
  },
  {
   "cell_type": "code",
   "execution_count": 47,
   "metadata": {},
   "outputs": [],
   "source": [
    "def drop_columns(dataset, columns):\n",
    "    dataset = dataset.drop(columns, axis=1)\n",
    "    return dataset"
   ]
  },
  {
   "cell_type": "code",
   "execution_count": 48,
   "metadata": {},
   "outputs": [],
   "source": [
    "train = drop_columns(train, ['Name', 'Ticket', 'Cabin'])\n",
    "test = drop_columns(test, ['Name', 'Ticket', 'Cabin'])"
   ]
  },
  {
   "cell_type": "markdown",
   "metadata": {},
   "source": [
    "### Final Checking"
   ]
  },
  {
   "cell_type": "code",
   "execution_count": 49,
   "metadata": {},
   "outputs": [
    {
     "name": "stdout",
     "output_type": "stream",
     "text": [
      "Processed Train Dataset\n"
     ]
    },
    {
     "data": {
      "text/html": [
       "<div>\n",
       "<style scoped>\n",
       "    .dataframe tbody tr th:only-of-type {\n",
       "        vertical-align: middle;\n",
       "    }\n",
       "\n",
       "    .dataframe tbody tr th {\n",
       "        vertical-align: top;\n",
       "    }\n",
       "\n",
       "    .dataframe thead th {\n",
       "        text-align: right;\n",
       "    }\n",
       "</style>\n",
       "<table border=\"1\" class=\"dataframe\">\n",
       "  <thead>\n",
       "    <tr style=\"text-align: right;\">\n",
       "      <th></th>\n",
       "      <th>PassengerId</th>\n",
       "      <th>Survived</th>\n",
       "      <th>Fare</th>\n",
       "      <th>Pclass_1</th>\n",
       "      <th>Pclass_2</th>\n",
       "      <th>Pclass_3</th>\n",
       "      <th>Sex_female</th>\n",
       "      <th>Sex_male</th>\n",
       "      <th>Age_Fifties</th>\n",
       "      <th>Age_Fourties</th>\n",
       "      <th>...</th>\n",
       "      <th>Title_Mrs</th>\n",
       "      <th>Title_Other</th>\n",
       "      <th>Cabin_A</th>\n",
       "      <th>Cabin_B</th>\n",
       "      <th>Cabin_C</th>\n",
       "      <th>Cabin_D</th>\n",
       "      <th>Cabin_E</th>\n",
       "      <th>Cabin_F</th>\n",
       "      <th>Cabin_G</th>\n",
       "      <th>Cabin_T</th>\n",
       "    </tr>\n",
       "  </thead>\n",
       "  <tbody>\n",
       "    <tr>\n",
       "      <th>0</th>\n",
       "      <td>1</td>\n",
       "      <td>0</td>\n",
       "      <td>0.014151</td>\n",
       "      <td>0</td>\n",
       "      <td>0</td>\n",
       "      <td>1</td>\n",
       "      <td>0</td>\n",
       "      <td>1</td>\n",
       "      <td>0</td>\n",
       "      <td>0</td>\n",
       "      <td>...</td>\n",
       "      <td>0</td>\n",
       "      <td>0</td>\n",
       "      <td>0</td>\n",
       "      <td>0</td>\n",
       "      <td>0</td>\n",
       "      <td>0</td>\n",
       "      <td>0</td>\n",
       "      <td>1</td>\n",
       "      <td>0</td>\n",
       "      <td>0</td>\n",
       "    </tr>\n",
       "    <tr>\n",
       "      <th>1</th>\n",
       "      <td>2</td>\n",
       "      <td>1</td>\n",
       "      <td>0.139136</td>\n",
       "      <td>1</td>\n",
       "      <td>0</td>\n",
       "      <td>0</td>\n",
       "      <td>1</td>\n",
       "      <td>0</td>\n",
       "      <td>0</td>\n",
       "      <td>0</td>\n",
       "      <td>...</td>\n",
       "      <td>1</td>\n",
       "      <td>0</td>\n",
       "      <td>0</td>\n",
       "      <td>0</td>\n",
       "      <td>1</td>\n",
       "      <td>0</td>\n",
       "      <td>0</td>\n",
       "      <td>0</td>\n",
       "      <td>0</td>\n",
       "      <td>0</td>\n",
       "    </tr>\n",
       "    <tr>\n",
       "      <th>2</th>\n",
       "      <td>3</td>\n",
       "      <td>1</td>\n",
       "      <td>0.015469</td>\n",
       "      <td>0</td>\n",
       "      <td>0</td>\n",
       "      <td>1</td>\n",
       "      <td>1</td>\n",
       "      <td>0</td>\n",
       "      <td>0</td>\n",
       "      <td>0</td>\n",
       "      <td>...</td>\n",
       "      <td>0</td>\n",
       "      <td>0</td>\n",
       "      <td>0</td>\n",
       "      <td>0</td>\n",
       "      <td>0</td>\n",
       "      <td>0</td>\n",
       "      <td>0</td>\n",
       "      <td>1</td>\n",
       "      <td>0</td>\n",
       "      <td>0</td>\n",
       "    </tr>\n",
       "    <tr>\n",
       "      <th>3</th>\n",
       "      <td>4</td>\n",
       "      <td>1</td>\n",
       "      <td>0.103644</td>\n",
       "      <td>1</td>\n",
       "      <td>0</td>\n",
       "      <td>0</td>\n",
       "      <td>1</td>\n",
       "      <td>0</td>\n",
       "      <td>0</td>\n",
       "      <td>0</td>\n",
       "      <td>...</td>\n",
       "      <td>1</td>\n",
       "      <td>0</td>\n",
       "      <td>0</td>\n",
       "      <td>0</td>\n",
       "      <td>1</td>\n",
       "      <td>0</td>\n",
       "      <td>0</td>\n",
       "      <td>0</td>\n",
       "      <td>0</td>\n",
       "      <td>0</td>\n",
       "    </tr>\n",
       "    <tr>\n",
       "      <th>4</th>\n",
       "      <td>5</td>\n",
       "      <td>0</td>\n",
       "      <td>0.015713</td>\n",
       "      <td>0</td>\n",
       "      <td>0</td>\n",
       "      <td>1</td>\n",
       "      <td>0</td>\n",
       "      <td>1</td>\n",
       "      <td>0</td>\n",
       "      <td>0</td>\n",
       "      <td>...</td>\n",
       "      <td>0</td>\n",
       "      <td>0</td>\n",
       "      <td>0</td>\n",
       "      <td>0</td>\n",
       "      <td>0</td>\n",
       "      <td>0</td>\n",
       "      <td>0</td>\n",
       "      <td>1</td>\n",
       "      <td>0</td>\n",
       "      <td>0</td>\n",
       "    </tr>\n",
       "    <tr>\n",
       "      <th>...</th>\n",
       "      <td>...</td>\n",
       "      <td>...</td>\n",
       "      <td>...</td>\n",
       "      <td>...</td>\n",
       "      <td>...</td>\n",
       "      <td>...</td>\n",
       "      <td>...</td>\n",
       "      <td>...</td>\n",
       "      <td>...</td>\n",
       "      <td>...</td>\n",
       "      <td>...</td>\n",
       "      <td>...</td>\n",
       "      <td>...</td>\n",
       "      <td>...</td>\n",
       "      <td>...</td>\n",
       "      <td>...</td>\n",
       "      <td>...</td>\n",
       "      <td>...</td>\n",
       "      <td>...</td>\n",
       "      <td>...</td>\n",
       "      <td>...</td>\n",
       "    </tr>\n",
       "    <tr>\n",
       "      <th>886</th>\n",
       "      <td>887</td>\n",
       "      <td>0</td>\n",
       "      <td>0.025374</td>\n",
       "      <td>0</td>\n",
       "      <td>1</td>\n",
       "      <td>0</td>\n",
       "      <td>0</td>\n",
       "      <td>1</td>\n",
       "      <td>0</td>\n",
       "      <td>0</td>\n",
       "      <td>...</td>\n",
       "      <td>0</td>\n",
       "      <td>1</td>\n",
       "      <td>0</td>\n",
       "      <td>0</td>\n",
       "      <td>0</td>\n",
       "      <td>0</td>\n",
       "      <td>0</td>\n",
       "      <td>1</td>\n",
       "      <td>0</td>\n",
       "      <td>0</td>\n",
       "    </tr>\n",
       "    <tr>\n",
       "      <th>887</th>\n",
       "      <td>888</td>\n",
       "      <td>1</td>\n",
       "      <td>0.058556</td>\n",
       "      <td>1</td>\n",
       "      <td>0</td>\n",
       "      <td>0</td>\n",
       "      <td>1</td>\n",
       "      <td>0</td>\n",
       "      <td>0</td>\n",
       "      <td>0</td>\n",
       "      <td>...</td>\n",
       "      <td>0</td>\n",
       "      <td>0</td>\n",
       "      <td>0</td>\n",
       "      <td>1</td>\n",
       "      <td>0</td>\n",
       "      <td>0</td>\n",
       "      <td>0</td>\n",
       "      <td>0</td>\n",
       "      <td>0</td>\n",
       "      <td>0</td>\n",
       "    </tr>\n",
       "    <tr>\n",
       "      <th>888</th>\n",
       "      <td>889</td>\n",
       "      <td>0</td>\n",
       "      <td>0.045771</td>\n",
       "      <td>0</td>\n",
       "      <td>0</td>\n",
       "      <td>1</td>\n",
       "      <td>1</td>\n",
       "      <td>0</td>\n",
       "      <td>0</td>\n",
       "      <td>0</td>\n",
       "      <td>...</td>\n",
       "      <td>0</td>\n",
       "      <td>0</td>\n",
       "      <td>0</td>\n",
       "      <td>0</td>\n",
       "      <td>0</td>\n",
       "      <td>0</td>\n",
       "      <td>0</td>\n",
       "      <td>1</td>\n",
       "      <td>0</td>\n",
       "      <td>0</td>\n",
       "    </tr>\n",
       "    <tr>\n",
       "      <th>889</th>\n",
       "      <td>890</td>\n",
       "      <td>1</td>\n",
       "      <td>0.058556</td>\n",
       "      <td>1</td>\n",
       "      <td>0</td>\n",
       "      <td>0</td>\n",
       "      <td>0</td>\n",
       "      <td>1</td>\n",
       "      <td>0</td>\n",
       "      <td>0</td>\n",
       "      <td>...</td>\n",
       "      <td>0</td>\n",
       "      <td>0</td>\n",
       "      <td>0</td>\n",
       "      <td>0</td>\n",
       "      <td>1</td>\n",
       "      <td>0</td>\n",
       "      <td>0</td>\n",
       "      <td>0</td>\n",
       "      <td>0</td>\n",
       "      <td>0</td>\n",
       "    </tr>\n",
       "    <tr>\n",
       "      <th>890</th>\n",
       "      <td>891</td>\n",
       "      <td>0</td>\n",
       "      <td>0.015127</td>\n",
       "      <td>0</td>\n",
       "      <td>0</td>\n",
       "      <td>1</td>\n",
       "      <td>0</td>\n",
       "      <td>1</td>\n",
       "      <td>0</td>\n",
       "      <td>0</td>\n",
       "      <td>...</td>\n",
       "      <td>0</td>\n",
       "      <td>0</td>\n",
       "      <td>0</td>\n",
       "      <td>0</td>\n",
       "      <td>0</td>\n",
       "      <td>0</td>\n",
       "      <td>0</td>\n",
       "      <td>1</td>\n",
       "      <td>0</td>\n",
       "      <td>0</td>\n",
       "    </tr>\n",
       "  </tbody>\n",
       "</table>\n",
       "<p>891 rows × 37 columns</p>\n",
       "</div>"
      ],
      "text/plain": [
       "     PassengerId  Survived      Fare  Pclass_1  Pclass_2  Pclass_3  \\\n",
       "0              1         0  0.014151         0         0         1   \n",
       "1              2         1  0.139136         1         0         0   \n",
       "2              3         1  0.015469         0         0         1   \n",
       "3              4         1  0.103644         1         0         0   \n",
       "4              5         0  0.015713         0         0         1   \n",
       "..           ...       ...       ...       ...       ...       ...   \n",
       "886          887         0  0.025374         0         1         0   \n",
       "887          888         1  0.058556         1         0         0   \n",
       "888          889         0  0.045771         0         0         1   \n",
       "889          890         1  0.058556         1         0         0   \n",
       "890          891         0  0.015127         0         0         1   \n",
       "\n",
       "     Sex_female  Sex_male  Age_Fifties  Age_Fourties  ...  Title_Mrs  \\\n",
       "0             0         1            0             0  ...          0   \n",
       "1             1         0            0             0  ...          1   \n",
       "2             1         0            0             0  ...          0   \n",
       "3             1         0            0             0  ...          1   \n",
       "4             0         1            0             0  ...          0   \n",
       "..          ...       ...          ...           ...  ...        ...   \n",
       "886           0         1            0             0  ...          0   \n",
       "887           1         0            0             0  ...          0   \n",
       "888           1         0            0             0  ...          0   \n",
       "889           0         1            0             0  ...          0   \n",
       "890           0         1            0             0  ...          0   \n",
       "\n",
       "     Title_Other  Cabin_A  Cabin_B  Cabin_C  Cabin_D  Cabin_E  Cabin_F  \\\n",
       "0              0        0        0        0        0        0        1   \n",
       "1              0        0        0        1        0        0        0   \n",
       "2              0        0        0        0        0        0        1   \n",
       "3              0        0        0        1        0        0        0   \n",
       "4              0        0        0        0        0        0        1   \n",
       "..           ...      ...      ...      ...      ...      ...      ...   \n",
       "886            1        0        0        0        0        0        1   \n",
       "887            0        0        1        0        0        0        0   \n",
       "888            0        0        0        0        0        0        1   \n",
       "889            0        0        0        1        0        0        0   \n",
       "890            0        0        0        0        0        0        1   \n",
       "\n",
       "     Cabin_G  Cabin_T  \n",
       "0          0        0  \n",
       "1          0        0  \n",
       "2          0        0  \n",
       "3          0        0  \n",
       "4          0        0  \n",
       "..       ...      ...  \n",
       "886        0        0  \n",
       "887        0        0  \n",
       "888        0        0  \n",
       "889        0        0  \n",
       "890        0        0  \n",
       "\n",
       "[891 rows x 37 columns]"
      ]
     },
     "execution_count": 49,
     "metadata": {},
     "output_type": "execute_result"
    }
   ],
   "source": [
    "print('Processed Train Dataset')\n",
    "train"
   ]
  },
  {
   "cell_type": "code",
   "execution_count": 50,
   "metadata": {},
   "outputs": [
    {
     "name": "stdout",
     "output_type": "stream",
     "text": [
      "Processed Test Dataset\n"
     ]
    },
    {
     "data": {
      "text/html": [
       "<div>\n",
       "<style scoped>\n",
       "    .dataframe tbody tr th:only-of-type {\n",
       "        vertical-align: middle;\n",
       "    }\n",
       "\n",
       "    .dataframe tbody tr th {\n",
       "        vertical-align: top;\n",
       "    }\n",
       "\n",
       "    .dataframe thead th {\n",
       "        text-align: right;\n",
       "    }\n",
       "</style>\n",
       "<table border=\"1\" class=\"dataframe\">\n",
       "  <thead>\n",
       "    <tr style=\"text-align: right;\">\n",
       "      <th></th>\n",
       "      <th>PassengerId</th>\n",
       "      <th>Fare</th>\n",
       "      <th>Pclass_1</th>\n",
       "      <th>Pclass_2</th>\n",
       "      <th>Pclass_3</th>\n",
       "      <th>Sex_female</th>\n",
       "      <th>Sex_male</th>\n",
       "      <th>Age_Fifties</th>\n",
       "      <th>Age_Fourties</th>\n",
       "      <th>Age_Over-Fifties</th>\n",
       "      <th>...</th>\n",
       "      <th>Title_Mr</th>\n",
       "      <th>Title_Mrs</th>\n",
       "      <th>Title_Other</th>\n",
       "      <th>Cabin_A</th>\n",
       "      <th>Cabin_B</th>\n",
       "      <th>Cabin_C</th>\n",
       "      <th>Cabin_D</th>\n",
       "      <th>Cabin_E</th>\n",
       "      <th>Cabin_F</th>\n",
       "      <th>Cabin_G</th>\n",
       "    </tr>\n",
       "  </thead>\n",
       "  <tbody>\n",
       "    <tr>\n",
       "      <th>0</th>\n",
       "      <td>892</td>\n",
       "      <td>0.015282</td>\n",
       "      <td>0</td>\n",
       "      <td>0</td>\n",
       "      <td>1</td>\n",
       "      <td>0</td>\n",
       "      <td>1</td>\n",
       "      <td>0</td>\n",
       "      <td>0</td>\n",
       "      <td>0</td>\n",
       "      <td>...</td>\n",
       "      <td>1</td>\n",
       "      <td>0</td>\n",
       "      <td>0</td>\n",
       "      <td>0</td>\n",
       "      <td>0</td>\n",
       "      <td>0</td>\n",
       "      <td>0</td>\n",
       "      <td>0</td>\n",
       "      <td>1</td>\n",
       "      <td>0</td>\n",
       "    </tr>\n",
       "    <tr>\n",
       "      <th>1</th>\n",
       "      <td>893</td>\n",
       "      <td>0.013663</td>\n",
       "      <td>0</td>\n",
       "      <td>0</td>\n",
       "      <td>1</td>\n",
       "      <td>1</td>\n",
       "      <td>0</td>\n",
       "      <td>0</td>\n",
       "      <td>1</td>\n",
       "      <td>0</td>\n",
       "      <td>...</td>\n",
       "      <td>0</td>\n",
       "      <td>1</td>\n",
       "      <td>0</td>\n",
       "      <td>0</td>\n",
       "      <td>0</td>\n",
       "      <td>0</td>\n",
       "      <td>0</td>\n",
       "      <td>0</td>\n",
       "      <td>1</td>\n",
       "      <td>0</td>\n",
       "    </tr>\n",
       "    <tr>\n",
       "      <th>2</th>\n",
       "      <td>894</td>\n",
       "      <td>0.018909</td>\n",
       "      <td>0</td>\n",
       "      <td>1</td>\n",
       "      <td>0</td>\n",
       "      <td>0</td>\n",
       "      <td>1</td>\n",
       "      <td>0</td>\n",
       "      <td>0</td>\n",
       "      <td>1</td>\n",
       "      <td>...</td>\n",
       "      <td>1</td>\n",
       "      <td>0</td>\n",
       "      <td>0</td>\n",
       "      <td>0</td>\n",
       "      <td>0</td>\n",
       "      <td>0</td>\n",
       "      <td>0</td>\n",
       "      <td>0</td>\n",
       "      <td>1</td>\n",
       "      <td>0</td>\n",
       "    </tr>\n",
       "    <tr>\n",
       "      <th>3</th>\n",
       "      <td>895</td>\n",
       "      <td>0.016908</td>\n",
       "      <td>0</td>\n",
       "      <td>0</td>\n",
       "      <td>1</td>\n",
       "      <td>0</td>\n",
       "      <td>1</td>\n",
       "      <td>0</td>\n",
       "      <td>0</td>\n",
       "      <td>0</td>\n",
       "      <td>...</td>\n",
       "      <td>1</td>\n",
       "      <td>0</td>\n",
       "      <td>0</td>\n",
       "      <td>0</td>\n",
       "      <td>0</td>\n",
       "      <td>0</td>\n",
       "      <td>0</td>\n",
       "      <td>0</td>\n",
       "      <td>1</td>\n",
       "      <td>0</td>\n",
       "    </tr>\n",
       "    <tr>\n",
       "      <th>4</th>\n",
       "      <td>896</td>\n",
       "      <td>0.023984</td>\n",
       "      <td>0</td>\n",
       "      <td>0</td>\n",
       "      <td>1</td>\n",
       "      <td>1</td>\n",
       "      <td>0</td>\n",
       "      <td>0</td>\n",
       "      <td>0</td>\n",
       "      <td>0</td>\n",
       "      <td>...</td>\n",
       "      <td>0</td>\n",
       "      <td>1</td>\n",
       "      <td>0</td>\n",
       "      <td>0</td>\n",
       "      <td>0</td>\n",
       "      <td>0</td>\n",
       "      <td>0</td>\n",
       "      <td>0</td>\n",
       "      <td>1</td>\n",
       "      <td>0</td>\n",
       "    </tr>\n",
       "    <tr>\n",
       "      <th>...</th>\n",
       "      <td>...</td>\n",
       "      <td>...</td>\n",
       "      <td>...</td>\n",
       "      <td>...</td>\n",
       "      <td>...</td>\n",
       "      <td>...</td>\n",
       "      <td>...</td>\n",
       "      <td>...</td>\n",
       "      <td>...</td>\n",
       "      <td>...</td>\n",
       "      <td>...</td>\n",
       "      <td>...</td>\n",
       "      <td>...</td>\n",
       "      <td>...</td>\n",
       "      <td>...</td>\n",
       "      <td>...</td>\n",
       "      <td>...</td>\n",
       "      <td>...</td>\n",
       "      <td>...</td>\n",
       "      <td>...</td>\n",
       "      <td>...</td>\n",
       "    </tr>\n",
       "    <tr>\n",
       "      <th>413</th>\n",
       "      <td>1305</td>\n",
       "      <td>0.015713</td>\n",
       "      <td>0</td>\n",
       "      <td>0</td>\n",
       "      <td>1</td>\n",
       "      <td>0</td>\n",
       "      <td>1</td>\n",
       "      <td>0</td>\n",
       "      <td>0</td>\n",
       "      <td>0</td>\n",
       "      <td>...</td>\n",
       "      <td>1</td>\n",
       "      <td>0</td>\n",
       "      <td>0</td>\n",
       "      <td>0</td>\n",
       "      <td>0</td>\n",
       "      <td>0</td>\n",
       "      <td>0</td>\n",
       "      <td>0</td>\n",
       "      <td>1</td>\n",
       "      <td>0</td>\n",
       "    </tr>\n",
       "    <tr>\n",
       "      <th>414</th>\n",
       "      <td>1306</td>\n",
       "      <td>0.212559</td>\n",
       "      <td>1</td>\n",
       "      <td>0</td>\n",
       "      <td>0</td>\n",
       "      <td>1</td>\n",
       "      <td>0</td>\n",
       "      <td>0</td>\n",
       "      <td>1</td>\n",
       "      <td>0</td>\n",
       "      <td>...</td>\n",
       "      <td>0</td>\n",
       "      <td>0</td>\n",
       "      <td>1</td>\n",
       "      <td>0</td>\n",
       "      <td>0</td>\n",
       "      <td>1</td>\n",
       "      <td>0</td>\n",
       "      <td>0</td>\n",
       "      <td>0</td>\n",
       "      <td>0</td>\n",
       "    </tr>\n",
       "    <tr>\n",
       "      <th>415</th>\n",
       "      <td>1307</td>\n",
       "      <td>0.014151</td>\n",
       "      <td>0</td>\n",
       "      <td>0</td>\n",
       "      <td>1</td>\n",
       "      <td>0</td>\n",
       "      <td>1</td>\n",
       "      <td>0</td>\n",
       "      <td>0</td>\n",
       "      <td>0</td>\n",
       "      <td>...</td>\n",
       "      <td>1</td>\n",
       "      <td>0</td>\n",
       "      <td>0</td>\n",
       "      <td>0</td>\n",
       "      <td>0</td>\n",
       "      <td>0</td>\n",
       "      <td>0</td>\n",
       "      <td>0</td>\n",
       "      <td>1</td>\n",
       "      <td>0</td>\n",
       "    </tr>\n",
       "    <tr>\n",
       "      <th>416</th>\n",
       "      <td>1308</td>\n",
       "      <td>0.015713</td>\n",
       "      <td>0</td>\n",
       "      <td>0</td>\n",
       "      <td>1</td>\n",
       "      <td>0</td>\n",
       "      <td>1</td>\n",
       "      <td>0</td>\n",
       "      <td>0</td>\n",
       "      <td>0</td>\n",
       "      <td>...</td>\n",
       "      <td>1</td>\n",
       "      <td>0</td>\n",
       "      <td>0</td>\n",
       "      <td>0</td>\n",
       "      <td>0</td>\n",
       "      <td>0</td>\n",
       "      <td>0</td>\n",
       "      <td>0</td>\n",
       "      <td>1</td>\n",
       "      <td>0</td>\n",
       "    </tr>\n",
       "    <tr>\n",
       "      <th>417</th>\n",
       "      <td>1309</td>\n",
       "      <td>0.043640</td>\n",
       "      <td>0</td>\n",
       "      <td>0</td>\n",
       "      <td>1</td>\n",
       "      <td>0</td>\n",
       "      <td>1</td>\n",
       "      <td>0</td>\n",
       "      <td>0</td>\n",
       "      <td>0</td>\n",
       "      <td>...</td>\n",
       "      <td>0</td>\n",
       "      <td>0</td>\n",
       "      <td>1</td>\n",
       "      <td>0</td>\n",
       "      <td>0</td>\n",
       "      <td>0</td>\n",
       "      <td>0</td>\n",
       "      <td>0</td>\n",
       "      <td>1</td>\n",
       "      <td>0</td>\n",
       "    </tr>\n",
       "  </tbody>\n",
       "</table>\n",
       "<p>418 rows × 35 columns</p>\n",
       "</div>"
      ],
      "text/plain": [
       "     PassengerId      Fare  Pclass_1  Pclass_2  Pclass_3  Sex_female  \\\n",
       "0            892  0.015282         0         0         1           0   \n",
       "1            893  0.013663         0         0         1           1   \n",
       "2            894  0.018909         0         1         0           0   \n",
       "3            895  0.016908         0         0         1           0   \n",
       "4            896  0.023984         0         0         1           1   \n",
       "..           ...       ...       ...       ...       ...         ...   \n",
       "413         1305  0.015713         0         0         1           0   \n",
       "414         1306  0.212559         1         0         0           1   \n",
       "415         1307  0.014151         0         0         1           0   \n",
       "416         1308  0.015713         0         0         1           0   \n",
       "417         1309  0.043640         0         0         1           0   \n",
       "\n",
       "     Sex_male  Age_Fifties  Age_Fourties  Age_Over-Fifties  ...  Title_Mr  \\\n",
       "0           1            0             0                 0  ...         1   \n",
       "1           0            0             1                 0  ...         0   \n",
       "2           1            0             0                 1  ...         1   \n",
       "3           1            0             0                 0  ...         1   \n",
       "4           0            0             0                 0  ...         0   \n",
       "..        ...          ...           ...               ...  ...       ...   \n",
       "413         1            0             0                 0  ...         1   \n",
       "414         0            0             1                 0  ...         0   \n",
       "415         1            0             0                 0  ...         1   \n",
       "416         1            0             0                 0  ...         1   \n",
       "417         1            0             0                 0  ...         0   \n",
       "\n",
       "     Title_Mrs  Title_Other  Cabin_A  Cabin_B  Cabin_C  Cabin_D  Cabin_E  \\\n",
       "0            0            0        0        0        0        0        0   \n",
       "1            1            0        0        0        0        0        0   \n",
       "2            0            0        0        0        0        0        0   \n",
       "3            0            0        0        0        0        0        0   \n",
       "4            1            0        0        0        0        0        0   \n",
       "..         ...          ...      ...      ...      ...      ...      ...   \n",
       "413          0            0        0        0        0        0        0   \n",
       "414          0            1        0        0        1        0        0   \n",
       "415          0            0        0        0        0        0        0   \n",
       "416          0            0        0        0        0        0        0   \n",
       "417          0            1        0        0        0        0        0   \n",
       "\n",
       "     Cabin_F  Cabin_G  \n",
       "0          1        0  \n",
       "1          1        0  \n",
       "2          1        0  \n",
       "3          1        0  \n",
       "4          1        0  \n",
       "..       ...      ...  \n",
       "413        1        0  \n",
       "414        0        0  \n",
       "415        1        0  \n",
       "416        1        0  \n",
       "417        1        0  \n",
       "\n",
       "[418 rows x 35 columns]"
      ]
     },
     "execution_count": 50,
     "metadata": {},
     "output_type": "execute_result"
    }
   ],
   "source": [
    "print('Processed Test Dataset')\n",
    "test"
   ]
  },
  {
   "cell_type": "code",
   "execution_count": 51,
   "metadata": {},
   "outputs": [],
   "source": [
    "test['Cabin_T'] = 0"
   ]
  },
  {
   "cell_type": "code",
   "execution_count": 52,
   "metadata": {},
   "outputs": [
    {
     "name": "stdout",
     "output_type": "stream",
     "text": [
      "Processed Test Dataset\n"
     ]
    },
    {
     "data": {
      "text/html": [
       "<div>\n",
       "<style scoped>\n",
       "    .dataframe tbody tr th:only-of-type {\n",
       "        vertical-align: middle;\n",
       "    }\n",
       "\n",
       "    .dataframe tbody tr th {\n",
       "        vertical-align: top;\n",
       "    }\n",
       "\n",
       "    .dataframe thead th {\n",
       "        text-align: right;\n",
       "    }\n",
       "</style>\n",
       "<table border=\"1\" class=\"dataframe\">\n",
       "  <thead>\n",
       "    <tr style=\"text-align: right;\">\n",
       "      <th></th>\n",
       "      <th>PassengerId</th>\n",
       "      <th>Fare</th>\n",
       "      <th>Pclass_1</th>\n",
       "      <th>Pclass_2</th>\n",
       "      <th>Pclass_3</th>\n",
       "      <th>Sex_female</th>\n",
       "      <th>Sex_male</th>\n",
       "      <th>Age_Fifties</th>\n",
       "      <th>Age_Fourties</th>\n",
       "      <th>Age_Over-Fifties</th>\n",
       "      <th>...</th>\n",
       "      <th>Title_Mrs</th>\n",
       "      <th>Title_Other</th>\n",
       "      <th>Cabin_A</th>\n",
       "      <th>Cabin_B</th>\n",
       "      <th>Cabin_C</th>\n",
       "      <th>Cabin_D</th>\n",
       "      <th>Cabin_E</th>\n",
       "      <th>Cabin_F</th>\n",
       "      <th>Cabin_G</th>\n",
       "      <th>Cabin_T</th>\n",
       "    </tr>\n",
       "  </thead>\n",
       "  <tbody>\n",
       "    <tr>\n",
       "      <th>0</th>\n",
       "      <td>892</td>\n",
       "      <td>0.015282</td>\n",
       "      <td>0</td>\n",
       "      <td>0</td>\n",
       "      <td>1</td>\n",
       "      <td>0</td>\n",
       "      <td>1</td>\n",
       "      <td>0</td>\n",
       "      <td>0</td>\n",
       "      <td>0</td>\n",
       "      <td>...</td>\n",
       "      <td>0</td>\n",
       "      <td>0</td>\n",
       "      <td>0</td>\n",
       "      <td>0</td>\n",
       "      <td>0</td>\n",
       "      <td>0</td>\n",
       "      <td>0</td>\n",
       "      <td>1</td>\n",
       "      <td>0</td>\n",
       "      <td>0</td>\n",
       "    </tr>\n",
       "    <tr>\n",
       "      <th>1</th>\n",
       "      <td>893</td>\n",
       "      <td>0.013663</td>\n",
       "      <td>0</td>\n",
       "      <td>0</td>\n",
       "      <td>1</td>\n",
       "      <td>1</td>\n",
       "      <td>0</td>\n",
       "      <td>0</td>\n",
       "      <td>1</td>\n",
       "      <td>0</td>\n",
       "      <td>...</td>\n",
       "      <td>1</td>\n",
       "      <td>0</td>\n",
       "      <td>0</td>\n",
       "      <td>0</td>\n",
       "      <td>0</td>\n",
       "      <td>0</td>\n",
       "      <td>0</td>\n",
       "      <td>1</td>\n",
       "      <td>0</td>\n",
       "      <td>0</td>\n",
       "    </tr>\n",
       "    <tr>\n",
       "      <th>2</th>\n",
       "      <td>894</td>\n",
       "      <td>0.018909</td>\n",
       "      <td>0</td>\n",
       "      <td>1</td>\n",
       "      <td>0</td>\n",
       "      <td>0</td>\n",
       "      <td>1</td>\n",
       "      <td>0</td>\n",
       "      <td>0</td>\n",
       "      <td>1</td>\n",
       "      <td>...</td>\n",
       "      <td>0</td>\n",
       "      <td>0</td>\n",
       "      <td>0</td>\n",
       "      <td>0</td>\n",
       "      <td>0</td>\n",
       "      <td>0</td>\n",
       "      <td>0</td>\n",
       "      <td>1</td>\n",
       "      <td>0</td>\n",
       "      <td>0</td>\n",
       "    </tr>\n",
       "    <tr>\n",
       "      <th>3</th>\n",
       "      <td>895</td>\n",
       "      <td>0.016908</td>\n",
       "      <td>0</td>\n",
       "      <td>0</td>\n",
       "      <td>1</td>\n",
       "      <td>0</td>\n",
       "      <td>1</td>\n",
       "      <td>0</td>\n",
       "      <td>0</td>\n",
       "      <td>0</td>\n",
       "      <td>...</td>\n",
       "      <td>0</td>\n",
       "      <td>0</td>\n",
       "      <td>0</td>\n",
       "      <td>0</td>\n",
       "      <td>0</td>\n",
       "      <td>0</td>\n",
       "      <td>0</td>\n",
       "      <td>1</td>\n",
       "      <td>0</td>\n",
       "      <td>0</td>\n",
       "    </tr>\n",
       "    <tr>\n",
       "      <th>4</th>\n",
       "      <td>896</td>\n",
       "      <td>0.023984</td>\n",
       "      <td>0</td>\n",
       "      <td>0</td>\n",
       "      <td>1</td>\n",
       "      <td>1</td>\n",
       "      <td>0</td>\n",
       "      <td>0</td>\n",
       "      <td>0</td>\n",
       "      <td>0</td>\n",
       "      <td>...</td>\n",
       "      <td>1</td>\n",
       "      <td>0</td>\n",
       "      <td>0</td>\n",
       "      <td>0</td>\n",
       "      <td>0</td>\n",
       "      <td>0</td>\n",
       "      <td>0</td>\n",
       "      <td>1</td>\n",
       "      <td>0</td>\n",
       "      <td>0</td>\n",
       "    </tr>\n",
       "    <tr>\n",
       "      <th>...</th>\n",
       "      <td>...</td>\n",
       "      <td>...</td>\n",
       "      <td>...</td>\n",
       "      <td>...</td>\n",
       "      <td>...</td>\n",
       "      <td>...</td>\n",
       "      <td>...</td>\n",
       "      <td>...</td>\n",
       "      <td>...</td>\n",
       "      <td>...</td>\n",
       "      <td>...</td>\n",
       "      <td>...</td>\n",
       "      <td>...</td>\n",
       "      <td>...</td>\n",
       "      <td>...</td>\n",
       "      <td>...</td>\n",
       "      <td>...</td>\n",
       "      <td>...</td>\n",
       "      <td>...</td>\n",
       "      <td>...</td>\n",
       "      <td>...</td>\n",
       "    </tr>\n",
       "    <tr>\n",
       "      <th>413</th>\n",
       "      <td>1305</td>\n",
       "      <td>0.015713</td>\n",
       "      <td>0</td>\n",
       "      <td>0</td>\n",
       "      <td>1</td>\n",
       "      <td>0</td>\n",
       "      <td>1</td>\n",
       "      <td>0</td>\n",
       "      <td>0</td>\n",
       "      <td>0</td>\n",
       "      <td>...</td>\n",
       "      <td>0</td>\n",
       "      <td>0</td>\n",
       "      <td>0</td>\n",
       "      <td>0</td>\n",
       "      <td>0</td>\n",
       "      <td>0</td>\n",
       "      <td>0</td>\n",
       "      <td>1</td>\n",
       "      <td>0</td>\n",
       "      <td>0</td>\n",
       "    </tr>\n",
       "    <tr>\n",
       "      <th>414</th>\n",
       "      <td>1306</td>\n",
       "      <td>0.212559</td>\n",
       "      <td>1</td>\n",
       "      <td>0</td>\n",
       "      <td>0</td>\n",
       "      <td>1</td>\n",
       "      <td>0</td>\n",
       "      <td>0</td>\n",
       "      <td>1</td>\n",
       "      <td>0</td>\n",
       "      <td>...</td>\n",
       "      <td>0</td>\n",
       "      <td>1</td>\n",
       "      <td>0</td>\n",
       "      <td>0</td>\n",
       "      <td>1</td>\n",
       "      <td>0</td>\n",
       "      <td>0</td>\n",
       "      <td>0</td>\n",
       "      <td>0</td>\n",
       "      <td>0</td>\n",
       "    </tr>\n",
       "    <tr>\n",
       "      <th>415</th>\n",
       "      <td>1307</td>\n",
       "      <td>0.014151</td>\n",
       "      <td>0</td>\n",
       "      <td>0</td>\n",
       "      <td>1</td>\n",
       "      <td>0</td>\n",
       "      <td>1</td>\n",
       "      <td>0</td>\n",
       "      <td>0</td>\n",
       "      <td>0</td>\n",
       "      <td>...</td>\n",
       "      <td>0</td>\n",
       "      <td>0</td>\n",
       "      <td>0</td>\n",
       "      <td>0</td>\n",
       "      <td>0</td>\n",
       "      <td>0</td>\n",
       "      <td>0</td>\n",
       "      <td>1</td>\n",
       "      <td>0</td>\n",
       "      <td>0</td>\n",
       "    </tr>\n",
       "    <tr>\n",
       "      <th>416</th>\n",
       "      <td>1308</td>\n",
       "      <td>0.015713</td>\n",
       "      <td>0</td>\n",
       "      <td>0</td>\n",
       "      <td>1</td>\n",
       "      <td>0</td>\n",
       "      <td>1</td>\n",
       "      <td>0</td>\n",
       "      <td>0</td>\n",
       "      <td>0</td>\n",
       "      <td>...</td>\n",
       "      <td>0</td>\n",
       "      <td>0</td>\n",
       "      <td>0</td>\n",
       "      <td>0</td>\n",
       "      <td>0</td>\n",
       "      <td>0</td>\n",
       "      <td>0</td>\n",
       "      <td>1</td>\n",
       "      <td>0</td>\n",
       "      <td>0</td>\n",
       "    </tr>\n",
       "    <tr>\n",
       "      <th>417</th>\n",
       "      <td>1309</td>\n",
       "      <td>0.043640</td>\n",
       "      <td>0</td>\n",
       "      <td>0</td>\n",
       "      <td>1</td>\n",
       "      <td>0</td>\n",
       "      <td>1</td>\n",
       "      <td>0</td>\n",
       "      <td>0</td>\n",
       "      <td>0</td>\n",
       "      <td>...</td>\n",
       "      <td>0</td>\n",
       "      <td>1</td>\n",
       "      <td>0</td>\n",
       "      <td>0</td>\n",
       "      <td>0</td>\n",
       "      <td>0</td>\n",
       "      <td>0</td>\n",
       "      <td>1</td>\n",
       "      <td>0</td>\n",
       "      <td>0</td>\n",
       "    </tr>\n",
       "  </tbody>\n",
       "</table>\n",
       "<p>418 rows × 36 columns</p>\n",
       "</div>"
      ],
      "text/plain": [
       "     PassengerId      Fare  Pclass_1  Pclass_2  Pclass_3  Sex_female  \\\n",
       "0            892  0.015282         0         0         1           0   \n",
       "1            893  0.013663         0         0         1           1   \n",
       "2            894  0.018909         0         1         0           0   \n",
       "3            895  0.016908         0         0         1           0   \n",
       "4            896  0.023984         0         0         1           1   \n",
       "..           ...       ...       ...       ...       ...         ...   \n",
       "413         1305  0.015713         0         0         1           0   \n",
       "414         1306  0.212559         1         0         0           1   \n",
       "415         1307  0.014151         0         0         1           0   \n",
       "416         1308  0.015713         0         0         1           0   \n",
       "417         1309  0.043640         0         0         1           0   \n",
       "\n",
       "     Sex_male  Age_Fifties  Age_Fourties  Age_Over-Fifties  ...  Title_Mrs  \\\n",
       "0           1            0             0                 0  ...          0   \n",
       "1           0            0             1                 0  ...          1   \n",
       "2           1            0             0                 1  ...          0   \n",
       "3           1            0             0                 0  ...          0   \n",
       "4           0            0             0                 0  ...          1   \n",
       "..        ...          ...           ...               ...  ...        ...   \n",
       "413         1            0             0                 0  ...          0   \n",
       "414         0            0             1                 0  ...          0   \n",
       "415         1            0             0                 0  ...          0   \n",
       "416         1            0             0                 0  ...          0   \n",
       "417         1            0             0                 0  ...          0   \n",
       "\n",
       "     Title_Other  Cabin_A  Cabin_B  Cabin_C  Cabin_D  Cabin_E  Cabin_F  \\\n",
       "0              0        0        0        0        0        0        1   \n",
       "1              0        0        0        0        0        0        1   \n",
       "2              0        0        0        0        0        0        1   \n",
       "3              0        0        0        0        0        0        1   \n",
       "4              0        0        0        0        0        0        1   \n",
       "..           ...      ...      ...      ...      ...      ...      ...   \n",
       "413            0        0        0        0        0        0        1   \n",
       "414            1        0        0        1        0        0        0   \n",
       "415            0        0        0        0        0        0        1   \n",
       "416            0        0        0        0        0        0        1   \n",
       "417            1        0        0        0        0        0        1   \n",
       "\n",
       "     Cabin_G  Cabin_T  \n",
       "0          0        0  \n",
       "1          0        0  \n",
       "2          0        0  \n",
       "3          0        0  \n",
       "4          0        0  \n",
       "..       ...      ...  \n",
       "413        0        0  \n",
       "414        0        0  \n",
       "415        0        0  \n",
       "416        0        0  \n",
       "417        0        0  \n",
       "\n",
       "[418 rows x 36 columns]"
      ]
     },
     "execution_count": 52,
     "metadata": {},
     "output_type": "execute_result"
    }
   ],
   "source": [
    "print('Processed Test Dataset')\n",
    "test"
   ]
  },
  {
   "cell_type": "markdown",
   "metadata": {},
   "source": [
    "### Save Data"
   ]
  },
  {
   "cell_type": "code",
   "execution_count": 53,
   "metadata": {},
   "outputs": [],
   "source": [
    "train.to_csv('./data/train_processed.csv', index=False, encoding='utf-8')\n",
    "test.to_csv('./data/test_processed.csv', index=False, encoding='utf-8')"
   ]
  },
  {
   "cell_type": "markdown",
   "metadata": {},
   "source": [
    "## Modeling"
   ]
  },
  {
   "cell_type": "markdown",
   "metadata": {},
   "source": [
    "### Load Processed Data"
   ]
  },
  {
   "cell_type": "code",
   "execution_count": 2,
   "metadata": {},
   "outputs": [],
   "source": [
    "def load_titanic():\n",
    "    train = pd.read_csv('./data/train_processed.csv')\n",
    "    test = pd.read_csv('./data/test_processed.csv')\n",
    "        \n",
    "    id_train = train['PassengerId']\n",
    "    x_train = np.array(train.loc[:, 'Fare': 'Cabin_T'])\n",
    "    y_train = np.array(train[['Survived']])\n",
    "    \n",
    "    id_test = test['PassengerId']\n",
    "    x_test = np.array(test.loc[:, 'Fare': 'Cabin_T'])\n",
    "    \n",
    "    return (id_train, x_train, y_train), (id_test, x_test)"
   ]
  },
  {
   "cell_type": "code",
   "execution_count": 3,
   "metadata": {},
   "outputs": [],
   "source": [
    "(id_train, x_train, y_train), (id_test, x_test) = load_titanic()"
   ]
  },
  {
   "cell_type": "code",
   "execution_count": 4,
   "metadata": {},
   "outputs": [
    {
     "name": "stdout",
     "output_type": "stream",
     "text": [
      "*** Shape of Train X ***\n",
      "(891, 35)\n"
     ]
    }
   ],
   "source": [
    "print('*** Shape of Train X ***')\n",
    "print(x_train.shape)"
   ]
  },
  {
   "cell_type": "code",
   "execution_count": 5,
   "metadata": {},
   "outputs": [
    {
     "name": "stdout",
     "output_type": "stream",
     "text": [
      "*** Shape of Train Y ***\n",
      "(891, 1)\n"
     ]
    }
   ],
   "source": [
    "print('*** Shape of Train Y ***')\n",
    "print(y_train.shape)\n"
   ]
  },
  {
   "cell_type": "code",
   "execution_count": 6,
   "metadata": {},
   "outputs": [
    {
     "name": "stdout",
     "output_type": "stream",
     "text": [
      "*** Shape of Test X ***\n",
      "(418, 35)\n"
     ]
    }
   ],
   "source": [
    "print('*** Shape of Test X ***')\n",
    "print(x_test.shape)"
   ]
  },
  {
   "cell_type": "markdown",
   "metadata": {},
   "source": [
    "### Make Model using Keras Subclass"
   ]
  },
  {
   "cell_type": "code",
   "execution_count": 7,
   "metadata": {},
   "outputs": [],
   "source": [
    "class TitanicModel(keras.Model):\n",
    "    def __init__(self):\n",
    "        super(TitanicModel, self).__init__()\n",
    "        self.dense1 = keras.layers.Dense(units=32, kernel_initializer='glorot_normal', activation='relu')\n",
    "        self.dense2 = keras.layers.Dense(units=1, kernel_initializer='glorot_normal', activation='sigmoid')\n",
    "        \n",
    "    def call(self, x):\n",
    "        layer = self.dense1(x)\n",
    "        y = self.dense2(layer)\n",
    "        return y"
   ]
  },
  {
   "cell_type": "code",
   "execution_count": 8,
   "metadata": {},
   "outputs": [],
   "source": [
    "model = TitanicModel()"
   ]
  },
  {
   "cell_type": "code",
   "execution_count": 9,
   "metadata": {},
   "outputs": [
    {
     "name": "stdout",
     "output_type": "stream",
     "text": [
      "Model: \"titanic_model\"\n",
      "_________________________________________________________________\n",
      "Layer (type)                 Output Shape              Param #   \n",
      "=================================================================\n",
      "dense (Dense)                (None, 891, 32)           1152      \n",
      "_________________________________________________________________\n",
      "dense_1 (Dense)              (None, 891, 1)            33        \n",
      "=================================================================\n",
      "Total params: 1,185\n",
      "Trainable params: 1,185\n",
      "Non-trainable params: 0\n",
      "_________________________________________________________________\n"
     ]
    }
   ],
   "source": [
    "temp_inputs = keras.Input(shape=x_train.shape)\n",
    "model(temp_inputs)\n",
    "model.summary()"
   ]
  },
  {
   "cell_type": "markdown",
   "metadata": {},
   "source": [
    "### Permormance Function"
   ]
  },
  {
   "cell_type": "markdown",
   "metadata": {},
   "source": [
    "**1. Loss Function**"
   ]
  },
  {
   "cell_type": "code",
   "execution_count": 10,
   "metadata": {},
   "outputs": [],
   "source": [
    "def loss_fn(model, x, y):\n",
    "    logits = model(x)\n",
    "    y = tf.cast(y, tf.float32)\n",
    "    loss = -tf.reduce_mean(y * tf.math.log(logits) + (1 - y) * tf.math.log(1 - logits))\n",
    "    return loss"
   ]
  },
  {
   "cell_type": "markdown",
   "metadata": {},
   "source": [
    "**2. Accuracy Function**"
   ]
  },
  {
   "cell_type": "code",
   "execution_count": 11,
   "metadata": {},
   "outputs": [],
   "source": [
    "def accuracy_fn(model, x, y):\n",
    "    logits = model(x)\n",
    "    prediction = tf.cast(logits > 0.5, tf.int64)\n",
    "    accuracy = tf.reduce_mean(tf.cast(tf.equal(prediction, y), tf.float32))\n",
    "    return accuracy"
   ]
  },
  {
   "cell_type": "markdown",
   "metadata": {},
   "source": [
    "### Hyper Parameter"
   ]
  },
  {
   "cell_type": "code",
   "execution_count": 12,
   "metadata": {},
   "outputs": [],
   "source": [
    "learning_rate = 0.001\n",
    "batch_size = 128\n",
    "epochs = 500\n",
    "iterations = len(x_train) // batch_size"
   ]
  },
  {
   "cell_type": "markdown",
   "metadata": {},
   "source": [
    "### Data Pipelining"
   ]
  },
  {
   "cell_type": "code",
   "execution_count": 13,
   "metadata": {},
   "outputs": [],
   "source": [
    "dataset = tf.data.Dataset.from_tensor_slices((x_train, y_train))\n",
    "dataset = dataset.shuffle(1000)\n",
    "dataset = dataset.prefetch(1000)\n",
    "dataset = dataset.batch(batch_size)\n",
    "dataset = dataset.repeat()\n",
    "\n",
    "dataset_iterator = iter(dataset)"
   ]
  },
  {
   "cell_type": "markdown",
   "metadata": {},
   "source": [
    "### Optimizer"
   ]
  },
  {
   "cell_type": "code",
   "execution_count": 14,
   "metadata": {},
   "outputs": [],
   "source": [
    "lr_decay = keras.optimizers.schedules.ExponentialDecay(learning_rate, 100, 0.8, staircase=True)\n",
    "optimizer = tf.keras.optimizers.Adam(learning_rate=lr_decay)"
   ]
  },
  {
   "cell_type": "markdown",
   "metadata": {},
   "source": [
    "### Summary Writer and Checkpoint Directory"
   ]
  },
  {
   "cell_type": "code",
   "execution_count": 15,
   "metadata": {},
   "outputs": [],
   "source": [
    "def load_checkpoint(model, checkpoint_dir):\n",
    "    print('[*] find checkpoint at {}'.format(checkpoint_dir))\n",
    "    \n",
    "    ckpt = tf.train.get_checkpoint_state(checkpoint_dir)\n",
    "    \n",
    "    if ckpt:\n",
    "        lates_checkpoint_name = os.path.basename(ckpt.model_checkpoint_path)\n",
    "        checkpoint = tf.train.Checkpoint(dnn=model)\n",
    "        checkpoint.restore(os.path.join(checkpoint_dir, lates_checkpoint_name))\n",
    "        \n",
    "        counter = int(lates_checkpoint_name.split('-')[1])\n",
    "        print('[*] restore checkpoint {}'.format(lates_checkpoint_name))\n",
    "        return True, counter\n",
    "    else:\n",
    "        print('[*] checkpoints not made')\n",
    "        return False, 0        "
   ]
  },
  {
   "cell_type": "code",
   "execution_count": 16,
   "metadata": {},
   "outputs": [],
   "source": [
    "current_dir = os.getcwd()\n",
    "checkpoint_dir = 'checkpoints'\n",
    "log_dir = 'logs'\n",
    "model_dir = 'titanic_model'\n",
    "\n",
    "checkpoint_dir = os.path.join(current_dir, checkpoint_dir, model_dir)\n",
    "os.makedirs(checkpoint_dir, exist_ok=True)\n",
    "checkpoint_prefix = os.path.join(checkpoint_dir, model_dir)\n",
    "\n",
    "log_dir = os.path.join(current_dir, log_dir, model_dir)"
   ]
  },
  {
   "cell_type": "code",
   "execution_count": 17,
   "metadata": {},
   "outputs": [
    {
     "name": "stdout",
     "output_type": "stream",
     "text": [
      "[*] find checkpoint at /Users/dhsong/Workspaces/Practices/Kaggle Data Analysis/Titanic: Machine Learning from Disaster /checkpoints/titanic_model\n",
      "[*] restore checkpoint titanic_model-401-5\n"
     ]
    }
   ],
   "source": [
    "checkpoint = tf.train.Checkpoint(dnn=model)\n",
    "\n",
    "could_load, checkpoint_counter = load_checkpoint(model, checkpoint_dir)\n",
    "if could_load:\n",
    "    start_epoch = checkpoint_counter    \n",
    "else:\n",
    "    start_epoch = 0"
   ]
  },
  {
   "cell_type": "code",
   "execution_count": 18,
   "metadata": {},
   "outputs": [],
   "source": [
    "summary_writer = tf.summary.create_file_writer(log_dir)"
   ]
  },
  {
   "cell_type": "markdown",
   "metadata": {},
   "source": [
    "### Training"
   ]
  },
  {
   "cell_type": "code",
   "execution_count": 19,
   "metadata": {},
   "outputs": [
    {
     "name": "stdout",
     "output_type": "stream",
     "text": [
      "WARNING:tensorflow:Layer titanic_model is casting an input tensor from dtype float64 to the layer's dtype of float32, which is new behavior in TensorFlow 2.  The layer has dtype float32 because it's dtype defaults to floatx.\n",
      "\n",
      "If you intended to run this layer in float32, you can safely ignore this warning. If in doubt, this warning is likely only an issue if you are porting a TensorFlow 1.X model to TensorFlow 2.\n",
      "\n",
      "To change all layers to have dtype float64 by default, call `tf.keras.backend.set_floatx('float64')`. To change just this layer, pass dtype='float64' to the layer constructor. If you are the author of this layer, you can disable autocasting by passing autocast=False to the base Layer constructor.\n",
      "\n",
      "  0.0651 Epoch   1 TRAINING loss= 0.7836 acc=36.33%,  VALIDATION loss= 0.7678 acc=38.21%\n",
      "  0.3867 Epoch  11 TRAINING loss= 0.5169 acc=77.73%,  VALIDATION loss= 0.5547 acc=75.61%\n",
      "  0.6983 Epoch  21 TRAINING loss= 0.4456 acc=81.38%,  VALIDATION loss= 0.4337 acc=81.30%\n",
      "  0.9944 Epoch  31 TRAINING loss= 0.4344 acc=82.03%,  VALIDATION loss= 0.3514 acc=84.55%\n",
      "  1.3350 Epoch  41 TRAINING loss= 0.4079 acc=83.33%,  VALIDATION loss= 0.4373 acc=80.49%\n",
      "  1.6589 Epoch  51 TRAINING loss= 0.4091 acc=83.33%,  VALIDATION loss= 0.3777 acc=86.18%\n",
      "  1.9539 Epoch  61 TRAINING loss= 0.3938 acc=84.77%,  VALIDATION loss= 0.4371 acc=79.67%\n",
      "  2.2745 Epoch  71 TRAINING loss= 0.3810 acc=84.77%,  VALIDATION loss= 0.4872 acc=82.11%\n",
      "  2.5919 Epoch  81 TRAINING loss= 0.3981 acc=84.11%,  VALIDATION loss= 0.3574 acc=86.18%\n",
      "  2.8761 Epoch  91 TRAINING loss= 0.3732 acc=85.42%,  VALIDATION loss= 0.4956 acc=77.24%\n",
      "  3.1600 Epoch 101 TRAINING loss= 0.3829 acc=85.16%,  VALIDATION loss= 0.4194 acc=83.74%\n",
      "  3.4508 Epoch 111 TRAINING loss= 0.3762 acc=85.42%,  VALIDATION loss= 0.4478 acc=82.11%\n",
      "  3.7346 Epoch 121 TRAINING loss= 0.3921 acc=84.90%,  VALIDATION loss= 0.3373 acc=86.99%\n",
      "  4.0199 Epoch 131 TRAINING loss= 0.3934 acc=84.24%,  VALIDATION loss= 0.3202 acc=91.06%\n",
      "  4.3046 Epoch 141 TRAINING loss= 0.3900 acc=85.03%,  VALIDATION loss= 0.3332 acc=86.99%\n",
      "  4.5914 Epoch 151 TRAINING loss= 0.3869 acc=85.16%,  VALIDATION loss= 0.3452 acc=86.18%\n",
      "  4.8747 Epoch 161 TRAINING loss= 0.3800 acc=85.03%,  VALIDATION loss= 0.3831 acc=84.55%\n",
      "  5.1588 Epoch 171 TRAINING loss= 0.3860 acc=84.77%,  VALIDATION loss= 0.3398 acc=88.62%\n",
      "  5.4871 Epoch 181 TRAINING loss= 0.3808 acc=85.03%,  VALIDATION loss= 0.3681 acc=86.99%\n",
      "  5.7745 Epoch 191 TRAINING loss= 0.3831 acc=84.24%,  VALIDATION loss= 0.3495 acc=88.62%\n",
      "  6.0724 Epoch 201 TRAINING loss= 0.3838 acc=85.29%,  VALIDATION loss= 0.3420 acc=85.37%\n",
      "  6.3661 Epoch 211 TRAINING loss= 0.3632 acc=85.94%,  VALIDATION loss= 0.4680 acc=78.86%\n",
      "  6.6530 Epoch 221 TRAINING loss= 0.3842 acc=84.90%,  VALIDATION loss= 0.3338 acc=88.62%\n",
      "  6.9363 Epoch 231 TRAINING loss= 0.3852 acc=84.64%,  VALIDATION loss= 0.3254 acc=91.06%\n",
      "  7.2211 Epoch 241 TRAINING loss= 0.3788 acc=84.64%,  VALIDATION loss= 0.3636 acc=90.24%\n",
      "  7.5158 Epoch 251 TRAINING loss= 0.3877 acc=84.90%,  VALIDATION loss= 0.3066 acc=88.62%\n",
      "  7.7993 Epoch 261 TRAINING loss= 0.3804 acc=85.55%,  VALIDATION loss= 0.3508 acc=84.55%\n",
      "  8.0817 Epoch 271 TRAINING loss= 0.3708 acc=86.20%,  VALIDATION loss= 0.4094 acc=80.49%\n",
      "  8.3764 Epoch 281 TRAINING loss= 0.3708 acc=85.68%,  VALIDATION loss= 0.4084 acc=83.74%\n",
      "  8.6598 Epoch 291 TRAINING loss= 0.3685 acc=86.07%,  VALIDATION loss= 0.4215 acc=81.30%\n",
      "  8.9442 Epoch 301 TRAINING loss= 0.3717 acc=85.16%,  VALIDATION loss= 0.4007 acc=86.99%\n",
      "  9.2365 Epoch 311 TRAINING loss= 0.3636 acc=86.07%,  VALIDATION loss= 0.4509 acc=82.11%\n",
      "  9.5235 Epoch 321 TRAINING loss= 0.3679 acc=85.81%,  VALIDATION loss= 0.4231 acc=83.74%\n",
      "  9.8062 Epoch 331 TRAINING loss= 0.3847 acc=85.03%,  VALIDATION loss= 0.3174 acc=87.80%\n",
      " 10.0898 Epoch 341 TRAINING loss= 0.3808 acc=85.16%,  VALIDATION loss= 0.3414 acc=87.80%\n",
      " 10.3774 Epoch 351 TRAINING loss= 0.3767 acc=85.68%,  VALIDATION loss= 0.3669 acc=84.55%\n",
      " 10.6696 Epoch 361 TRAINING loss= 0.3797 acc=85.42%,  VALIDATION loss= 0.3475 acc=86.18%\n",
      " 10.9525 Epoch 371 TRAINING loss= 0.3859 acc=85.03%,  VALIDATION loss= 0.3086 acc=87.80%\n",
      " 11.2908 Epoch 381 TRAINING loss= 0.3744 acc=85.81%,  VALIDATION loss= 0.3800 acc=83.74%\n",
      " 11.5888 Epoch 391 TRAINING loss= 0.3748 acc=85.55%,  VALIDATION loss= 0.3775 acc=85.37%\n",
      " 11.9158 Epoch 401 TRAINING loss= 0.3896 acc=84.90%,  VALIDATION loss= 0.2848 acc=89.43%\n",
      " 12.2168 Epoch 411 TRAINING loss= 0.3770 acc=85.29%,  VALIDATION loss= 0.3633 acc=86.99%\n",
      " 12.5453 Epoch 421 TRAINING loss= 0.3802 acc=85.68%,  VALIDATION loss= 0.3431 acc=84.55%\n",
      " 12.8344 Epoch 431 TRAINING loss= 0.3655 acc=85.94%,  VALIDATION loss= 0.4345 acc=82.93%\n",
      " 13.1352 Epoch 441 TRAINING loss= 0.3874 acc=84.64%,  VALIDATION loss= 0.2980 acc=91.06%\n",
      " 13.4413 Epoch 451 TRAINING loss= 0.3787 acc=85.55%,  VALIDATION loss= 0.3519 acc=85.37%\n",
      " 13.7258 Epoch 461 TRAINING loss= 0.3795 acc=85.16%,  VALIDATION loss= 0.3471 acc=87.80%\n",
      " 14.0117 Epoch 471 TRAINING loss= 0.3834 acc=85.03%,  VALIDATION loss= 0.3226 acc=88.62%\n",
      " 14.2956 Epoch 481 TRAINING loss= 0.3707 acc=85.81%,  VALIDATION loss= 0.4016 acc=83.74%\n",
      " 14.5798 Epoch 491 TRAINING loss= 0.3666 acc=86.33%,  VALIDATION loss= 0.4273 acc=80.49%\n"
     ]
    }
   ],
   "source": [
    "with summary_writer.as_default():\n",
    "    start_time = time.time()\n",
    "\n",
    "    for epoch in range(start_epoch, epochs):\n",
    "        epoch_train_loss = 0.\n",
    "        epoch_train_acc = 0.\n",
    "        epoch_val_loss = 0.\n",
    "        epoch_val_acc = 0.\n",
    "\n",
    "        for iteration in range(iterations):\n",
    "            x_train, y_train = dataset_iterator.get_next()\n",
    "\n",
    "            with tf.GradientTape() as tape:\n",
    "                loss = loss_fn(model, x_train, y_train)\n",
    "            grads = tape.gradient(loss, model.variables)\n",
    "\n",
    "            epoch_train_loss += loss\n",
    "            epoch_train_acc += accuracy_fn(model, x_train, y_train)\n",
    "\n",
    "            optimizer.apply_gradients(zip(grads, model.variables))\n",
    "\n",
    "        epoch_train_loss /= (iterations)\n",
    "        epoch_train_acc /= (iterations)\n",
    "\n",
    "        x_val, y_val = dataset_iterator.get_next()\n",
    "        epoch_val_loss = loss_fn(model, x_val, y_val)\n",
    "        epoch_val_acc = accuracy_fn(model, x_val, y_val)\n",
    "    \n",
    "        tf.summary.scalar(\"train_loss\", epoch_train_loss, step=epoch)\n",
    "        tf.summary.scalar(\"train_acc\", epoch_train_acc, step=epoch)\n",
    "        tf.summary.scalar(\"val_loss\", epoch_val_loss, step=epoch)\n",
    "        tf.summary.scalar(\"val_acc\", epoch_val_acc, step=epoch)\n",
    "\n",
    "        if epoch % 10 == 0:\n",
    "            print('{:8.4f} Epoch {:3d} TRAINING loss={:7.4f} acc={:.2%},  VALIDATION loss={:7.4f} acc={:.2%}'.format(time.time() - start_time, epoch + 1, epoch_train_loss, epoch_train_acc, epoch_val_loss, epoch_val_acc))\n",
    "            \n",
    "        if epoch % 100 == 0:\n",
    "            checkpoint.save(file_prefix=checkpoint_prefix + '-{}'.format(epoch + 1))"
   ]
  },
  {
   "cell_type": "markdown",
   "metadata": {},
   "source": [
    "### Testing"
   ]
  },
  {
   "cell_type": "code",
   "execution_count": 19,
   "metadata": {},
   "outputs": [],
   "source": [
    "(id_train, x_train, y_train), (id_test, x_test) = load_titanic()"
   ]
  },
  {
   "cell_type": "code",
   "execution_count": 20,
   "metadata": {},
   "outputs": [],
   "source": [
    "def predict(model, x):\n",
    "    pred = model.predict(x)\n",
    "    pred = tf.cast(pred > 0.5, tf.int64)\n",
    "    return pred"
   ]
  },
  {
   "cell_type": "code",
   "execution_count": 21,
   "metadata": {},
   "outputs": [],
   "source": [
    "def accuracy_with_prediction(pred, real):\n",
    "    return tf.reduce_mean(tf.cast(tf.equal(pred, real), tf.float32))"
   ]
  },
  {
   "cell_type": "code",
   "execution_count": 24,
   "metadata": {},
   "outputs": [
    {
     "name": "stdout",
     "output_type": "stream",
     "text": [
      "Accuracy : 85.52%\n"
     ]
    }
   ],
   "source": [
    "prediction = predict(model, x_train)\n",
    "accuracy = accuracy_with_prediction(prediction, y_train)\n",
    "print('Accuracy : {:.2%}'.format(accuracy))"
   ]
  },
  {
   "cell_type": "markdown",
   "metadata": {},
   "source": [
    "### Make Submission"
   ]
  },
  {
   "cell_type": "code",
   "execution_count": 31,
   "metadata": {},
   "outputs": [],
   "source": [
    "prediction = predict(model, x_test)\n",
    "prediction = np.reshape(prediction.numpy(), (-1, ))\n",
    "submission = pd.concat([id_test, pd.Series(prediction)], axis=1)\n",
    "submission.columns = ['PassengerId', 'Survived']\n",
    "submission.to_csv('./data/submission/submission.csv', index=False, encoding='utf-8')"
   ]
  },
  {
   "cell_type": "code",
   "execution_count": null,
   "metadata": {},
   "outputs": [],
   "source": []
  }
 ],
 "metadata": {
  "kernelspec": {
   "display_name": "Python 3",
   "language": "python",
   "name": "python3"
  },
  "language_info": {
   "codemirror_mode": {
    "name": "ipython",
    "version": 3
   },
   "file_extension": ".py",
   "mimetype": "text/x-python",
   "name": "python",
   "nbconvert_exporter": "python",
   "pygments_lexer": "ipython3",
   "version": "3.7.4"
  },
  "pycharm": {
   "stem_cell": {
    "cell_type": "raw",
    "metadata": {
     "collapsed": false
    },
    "source": []
   }
  }
 },
 "nbformat": 4,
 "nbformat_minor": 1
}
